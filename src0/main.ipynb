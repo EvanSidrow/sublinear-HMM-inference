{
 "cells": [
  {
   "cell_type": "code",
   "execution_count": 132,
   "id": "national-juice",
   "metadata": {},
   "outputs": [],
   "source": [
    "import sys\n",
    "#sys.path.remove('/Users/evsi8432/Documents/Research/CarHHMM-DFT/Repository/Code')\n",
    "\n",
    "import pandas as pd\n",
    "import numpy as np\n",
    "import matplotlib.pyplot as plt\n",
    "import matplotlib.cm as cm\n",
    "\n",
    "from scipy.stats import gamma\n",
    "from scipy.stats import norm\n",
    "from scipy.stats import vonmises\n",
    "from scipy.stats import multivariate_normal\n",
    "from scipy.stats import gaussian_kde\n",
    "from scipy.stats import circstd\n",
    "from scipy.special import iv\n",
    "from scipy.special import expit\n",
    "from scipy.special import logit\n",
    "from scipy.special import logsumexp\n",
    "from scipy.optimize import minimize\n",
    "from scipy.optimize import minimize_scalar\n",
    "from scipy.optimize import LinearConstraint\n",
    "from scipy.signal import convolve\n",
    "from scipy.interpolate import interp1d\n",
    "from scipy.linalg import block_diag\n",
    "\n",
    "from math import isclose\n",
    "\n",
    "from copy import deepcopy\n",
    "\n",
    "import importlib\n",
    "\n",
    "import time\n",
    "import pickle\n",
    "import random"
   ]
  },
  {
   "cell_type": "code",
   "execution_count": 133,
   "id": "acute-library",
   "metadata": {},
   "outputs": [],
   "source": [
    "import main\n",
    "\n",
    "from main import delta_2_eta0\n",
    "from main import Gamma_2_eta\n",
    "from main import eta0_2_delta\n",
    "from main import eta_2_Gamma\n",
    "\n",
    "np.random.seed(0)\n",
    "random.seed(0)"
   ]
  },
  {
   "cell_type": "markdown",
   "id": "freelance-ballot",
   "metadata": {},
   "source": [
    "# Initialize Parameters"
   ]
  },
  {
   "cell_type": "code",
   "execution_count": 134,
   "id": "egyptian-address",
   "metadata": {},
   "outputs": [],
   "source": [
    "# parameters for data\n",
    "K = [2,2]\n",
    "T = 1000\n",
    "experiment = 1\n",
    "\n",
    "\n",
    "if experiment == 1:\n",
    "    \n",
    "    Gamma = [np.array([[0.9,0.1],\n",
    "                       [0.1,0.9]]),\n",
    "             [np.array([[0.75,0.25],\n",
    "                        [0.25,0.75]]),\n",
    "              np.array([[0.25,0.75],\n",
    "                        [0.75,0.25]])]]\n",
    "\n",
    "    delta = [np.array([0.9,0.1]),\n",
    "             [np.array([0.9,0.1]),\n",
    "              np.array([0.1,0.9])]]\n",
    "    \n",
    "    \n",
    "    Gamma_coarse_full = np.kron(Gamma[0],np.ones((2,2)))\n",
    "    Gamma_fine_full = np.block([[Gamma[1][0],np.tile(delta[1][1],(2,1))],\n",
    "                                [np.tile(delta[1][0],(2,1)),Gamma[1][1]]])\n",
    "    \n",
    "    Gamma_full = Gamma_coarse_full * Gamma_fine_full\n",
    "    delta_full = np.repeat(delta[0],2) * np.concatenate(delta[1])\n",
    "    \n",
    "    mus = {'Y'      : np.array([1,1,2,2]), # coarse-scale mus\n",
    "           'Y_star' : np.array([1,2,1,2])} # fine-scale mus\n",
    "    \n",
    "    sigs = {'Y'      : np.exp(np.array([-2,-2,-2,-2])), # coarse-scale sigs\n",
    "            'Y_star' : np.exp(np.array([-2,-2,-2,-2]))} # fine-scale sigs\n",
    "    \n",
    "elif experiment == 2:\n",
    "    \n",
    "    Gamma = np.array([[0.99,0.005,0.005],\n",
    "                      [0.005,0.99,0.005],\n",
    "                      [0.005,0.005,0.99]])\n",
    "    delta = np.ones(K[0])/K[0]\n",
    "    mus = np.array(range(K[0])).astype(\"float64\")\n",
    "    sigs = np.exp(np.array([-1.0,1.0,0.0]))\n",
    "\n",
    "    \n",
    "# optimization parameters \n",
    "methods = [\"BFGS\",\"CG\",\"Nelder-Mead\",\"Newton-CG\",\"L-BFGS-B\"]\n",
    "# methods = [\"EM\",\"SGD\",\"SAG\",\"SVRG\",\"SAGA\",\"GD\",\"BFGS\",\"Nelder-Mead\"]\n",
    "\n",
    "# pick optimization settings\n",
    "step_sizes = {\"EM\"  : [None,None],\n",
    "              \"CG\": [None,None],\n",
    "              \"BFGS\": [None,None],\n",
    "              \"GD\"  : [0.01,0.01],\n",
    "              \"SGD\" : [0.01,0.01],\n",
    "              \"SAG\" : [0.01,0.01],\n",
    "              \"SVRG\": [0.01,0.01],\n",
    "              \"SAGA\": [0.01,0.01]}\n",
    "\n",
    "num_epochs = 100\n",
    "tol = 1e-8\n",
    "grad_tol = 1e-8"
   ]
  },
  {
   "cell_type": "markdown",
   "id": "coated-content",
   "metadata": {},
   "source": [
    "# Simulate Data"
   ]
  },
  {
   "cell_type": "code",
   "execution_count": 135,
   "id": "adult-white",
   "metadata": {},
   "outputs": [],
   "source": [
    "X = np.zeros(T,dtype=int)\n",
    "data = []\n",
    "\n",
    "for t in range(T):\n",
    "    \n",
    "    if t == 0:\n",
    "        X[t] = np.random.choice(K[0]*K[1],p=delta_full)\n",
    "    else:\n",
    "        X[t] = np.random.choice(K[0]*K[1],p=Gamma_full[X[t-1]])\n",
    "\n",
    "    data.append({'Y'      : mus['Y'][X[t]] + sigs['Y'][X[t]]*np.random.normal(),\n",
    "                 'Y_star' : mus['Y_star'][X[t]] + sigs['Y_star'][X[t]]*np.random.normal()})"
   ]
  },
  {
   "cell_type": "code",
   "execution_count": 136,
   "id": "incorporated-climate",
   "metadata": {},
   "outputs": [
    {
     "data": {
      "image/png": "[encoded data removed]",
      "text/plain": [
       "<Figure size 432x288 with 1 Axes>"
      ]
     },
     "metadata": {
      "needs_background": "light"
     },
     "output_type": "display_data"
    },
    {
     "data": {
      "image/png": "[encoded data removed]",
      "text/plain": [
       "<Figure size 432x288 with 1 Axes>"
      ]
     },
     "metadata": {
      "needs_background": "light"
     },
     "output_type": "display_data"
    }
   ],
   "source": [
    "plt.plot(X)\n",
    "plt.show()\n",
    "plt.plot([x[\"Y\"] for x in data],'.')\n",
    "plt.plot([x[\"Y_star\"] for x in data],'.')\n",
    "plt.show()\n",
    "\n",
    "# save data\n",
    "np.savetxt('../dat/data.csv', \n",
    "           np.array([x['Y'] for x in data]), \n",
    "           delimiter=',')"
   ]
  },
  {
   "cell_type": "markdown",
   "id": "intended-knock",
   "metadata": {},
   "source": [
    "# Load in Whale Data"
   ]
  },
  {
   "cell_type": "code",
   "execution_count": 156,
   "id": "featured-allah",
   "metadata": {},
   "outputs": [],
   "source": [
    "df = pd.read_csv(\"../dat/Final_Data.csv\")\n",
    "\n",
    "data = []\n",
    "\n",
    "for row in df[[\"diveDuration\",\"maxDepth\",\"avg_bot_htv\"]].iterrows():\n",
    "    data.append({\"diveDuration\" : row[1][\"diveDuration\"],\n",
    "                 \"maxDepth\"     : row[1][\"maxDepth\"],\n",
    "                 \"avg_bot_htv\"  : row[1][\"avg_bot_htv\"]})"
   ]
  },
  {
   "cell_type": "markdown",
   "id": "informal-japan",
   "metadata": {},
   "source": [
    "# Train the HMM"
   ]
  },
  {
   "cell_type": "code",
   "execution_count": 157,
   "id": "boring-craft",
   "metadata": {},
   "outputs": [],
   "source": [
    "# initialize optims\n",
    "optims = {}\n",
    "times = {}"
   ]
  },
  {
   "cell_type": "code",
   "execution_count": 158,
   "id": "sharing-yahoo",
   "metadata": {},
   "outputs": [
    {
     "name": "stdout",
     "output_type": "stream",
     "text": [
      "BFGS\n"
     ]
    },
    {
     "ename": "KeyError",
     "evalue": "'Y'",
     "output_type": "error",
     "traceback": [
      "\u001b[0;31m---------------------------------------------------------------------------\u001b[0m",
      "\u001b[0;31mKeyError\u001b[0m                                  Traceback (most recent call last)",
      "\u001b[0;32m<ipython-input-158-23ab3ba362c1>\u001b[0m in \u001b[0;36m<module>\u001b[0;34m\u001b[0m\n\u001b[1;32m      2\u001b[0m \u001b[0;32mfor\u001b[0m \u001b[0mmethod\u001b[0m \u001b[0;32min\u001b[0m \u001b[0mmethods\u001b[0m\u001b[0;34m:\u001b[0m\u001b[0;34m\u001b[0m\u001b[0;34m\u001b[0m\u001b[0m\n\u001b[1;32m      3\u001b[0m     \u001b[0mprint\u001b[0m\u001b[0;34m(\u001b[0m\u001b[0mmethod\u001b[0m\u001b[0;34m)\u001b[0m\u001b[0;34m\u001b[0m\u001b[0;34m\u001b[0m\u001b[0m\n\u001b[0;32m----> 4\u001b[0;31m     \u001b[0moptims\u001b[0m\u001b[0;34m[\u001b[0m\u001b[0mmethod\u001b[0m\u001b[0;34m]\u001b[0m \u001b[0;34m=\u001b[0m \u001b[0mmain\u001b[0m\u001b[0;34m.\u001b[0m\u001b[0moptimizor\u001b[0m\u001b[0;34m(\u001b[0m\u001b[0mdata\u001b[0m\u001b[0;34m,\u001b[0m\u001b[0mK\u001b[0m\u001b[0;34m)\u001b[0m\u001b[0;34m\u001b[0m\u001b[0;34m\u001b[0m\u001b[0m\n\u001b[0m\u001b[1;32m      5\u001b[0m \u001b[0;34m\u001b[0m\u001b[0m\n\u001b[1;32m      6\u001b[0m     optims[method].theta = [{'Y': {'mu': np.array([1.0,2.0]),\n",
      "\u001b[0;32m~/Documents/Research/sublinear-HMM-inference/src0/main.py\u001b[0m in \u001b[0;36m__init__\u001b[0;34m(self, data, K)\u001b[0m\n\u001b[1;32m    116\u001b[0m \u001b[0;34m\u001b[0m\u001b[0m\n\u001b[1;32m    117\u001b[0m         \u001b[0;31m# thetas and etas\u001b[0m\u001b[0;34m\u001b[0m\u001b[0;34m\u001b[0m\u001b[0;34m\u001b[0m\u001b[0m\n\u001b[0;32m--> 118\u001b[0;31m         \u001b[0mself\u001b[0m\u001b[0;34m.\u001b[0m\u001b[0minitialize_theta\u001b[0m\u001b[0;34m(\u001b[0m\u001b[0mdata\u001b[0m\u001b[0;34m)\u001b[0m\u001b[0;34m\u001b[0m\u001b[0;34m\u001b[0m\u001b[0m\n\u001b[0m\u001b[1;32m    119\u001b[0m         \u001b[0mself\u001b[0m\u001b[0;34m.\u001b[0m\u001b[0minitialize_eta\u001b[0m\u001b[0;34m(\u001b[0m\u001b[0;34m)\u001b[0m\u001b[0;34m\u001b[0m\u001b[0;34m\u001b[0m\u001b[0m\n\u001b[1;32m    120\u001b[0m         \u001b[0mself\u001b[0m\u001b[0;34m.\u001b[0m\u001b[0minitialize_eta0\u001b[0m\u001b[0;34m(\u001b[0m\u001b[0;34m)\u001b[0m\u001b[0;34m\u001b[0m\u001b[0;34m\u001b[0m\u001b[0m\n",
      "\u001b[0;32m~/Documents/Research/sublinear-HMM-inference/src0/main.py\u001b[0m in \u001b[0;36minitialize_theta\u001b[0;34m(self, data)\u001b[0m\n\u001b[1;32m    165\u001b[0m             \u001b[0;32mif\u001b[0m \u001b[0mdata\u001b[0m \u001b[0;32mis\u001b[0m \u001b[0;32mnot\u001b[0m \u001b[0;32mNone\u001b[0m\u001b[0;34m:\u001b[0m\u001b[0;34m\u001b[0m\u001b[0;34m\u001b[0m\u001b[0m\n\u001b[1;32m    166\u001b[0m \u001b[0;34m\u001b[0m\u001b[0m\n\u001b[0;32m--> 167\u001b[0;31m                 \u001b[0mfeature_data\u001b[0m \u001b[0;34m=\u001b[0m \u001b[0;34m[\u001b[0m\u001b[0mdatum\u001b[0m\u001b[0;34m[\u001b[0m\u001b[0mfeature\u001b[0m\u001b[0;34m]\u001b[0m \u001b[0;32mfor\u001b[0m \u001b[0mdatum\u001b[0m \u001b[0;32min\u001b[0m \u001b[0mdata\u001b[0m\u001b[0;34m]\u001b[0m\u001b[0;34m\u001b[0m\u001b[0;34m\u001b[0m\u001b[0m\n\u001b[0m\u001b[1;32m    168\u001b[0m \u001b[0;34m\u001b[0m\u001b[0m\n\u001b[1;32m    169\u001b[0m                 \u001b[0;31m# first find basic parameter estimates\u001b[0m\u001b[0;34m\u001b[0m\u001b[0;34m\u001b[0m\u001b[0;34m\u001b[0m\u001b[0m\n",
      "\u001b[0;32m~/Documents/Research/sublinear-HMM-inference/src0/main.py\u001b[0m in \u001b[0;36m<listcomp>\u001b[0;34m(.0)\u001b[0m\n\u001b[1;32m    165\u001b[0m             \u001b[0;32mif\u001b[0m \u001b[0mdata\u001b[0m \u001b[0;32mis\u001b[0m \u001b[0;32mnot\u001b[0m \u001b[0;32mNone\u001b[0m\u001b[0;34m:\u001b[0m\u001b[0;34m\u001b[0m\u001b[0;34m\u001b[0m\u001b[0m\n\u001b[1;32m    166\u001b[0m \u001b[0;34m\u001b[0m\u001b[0m\n\u001b[0;32m--> 167\u001b[0;31m                 \u001b[0mfeature_data\u001b[0m \u001b[0;34m=\u001b[0m \u001b[0;34m[\u001b[0m\u001b[0mdatum\u001b[0m\u001b[0;34m[\u001b[0m\u001b[0mfeature\u001b[0m\u001b[0;34m]\u001b[0m \u001b[0;32mfor\u001b[0m \u001b[0mdatum\u001b[0m \u001b[0;32min\u001b[0m \u001b[0mdata\u001b[0m\u001b[0;34m]\u001b[0m\u001b[0;34m\u001b[0m\u001b[0;34m\u001b[0m\u001b[0m\n\u001b[0m\u001b[1;32m    168\u001b[0m \u001b[0;34m\u001b[0m\u001b[0m\n\u001b[1;32m    169\u001b[0m                 \u001b[0;31m# first find basic parameter estimates\u001b[0m\u001b[0;34m\u001b[0m\u001b[0;34m\u001b[0m\u001b[0;34m\u001b[0m\u001b[0m\n",
      "\u001b[0;31mKeyError\u001b[0m: 'Y'"
     ]
    }
   ],
   "source": [
    "importlib.reload(main)\n",
    "for method in methods:\n",
    "    print(method)\n",
    "    optims[method] = main.optimizor(data,K)\n",
    "    \n",
    "    optims[method].theta = [{'Y': {'mu': np.array([1.0,2.0]),\n",
    "                                   'log_sig': np.array([-2.0,-2.0]),\n",
    "                                   'corr': np.array([0.0,0.0])}},\n",
    "                            [{'Y_star': {'mu': np.array([1.0,2.0]),\n",
    "                                         'log_sig': np.array([-2.0,-2.0]),\n",
    "                                         'corr': np.array([0.0,0.0])}},\n",
    "                             {'Y_star': {'mu': np.array([1.0,2.0]),\n",
    "                                         'log_sig': np.array([-2.0,-2.0]),\n",
    "                                         'corr': np.array([0.0,0.0])}}]]\n",
    "\n",
    "    optims[method].Gamma = [np.array([[0.9,0.1],\n",
    "                                      [0.1,0.9]]),\n",
    "                            [np.array([[0.75,0.25],\n",
    "                                       [0.25,0.75]]),\n",
    "                             np.array([[0.25,0.75],\n",
    "                                       [0.75,0.25]])]]\n",
    "\n",
    "    optims[method].delta = [np.array([0.9,0.1]),\n",
    "                            [np.array([0.9,0.1]),\n",
    "                             np.array([0.1,0.9])]]\n",
    "\n",
    "    optims[method].eta0 = delta_2_eta0(optims[method].delta)\n",
    "    optims[method].eta = Gamma_2_eta(optims[method].Gamma)\n",
    "    \n",
    "    optims[method].train_HHMM(num_epochs=num_epochs,\n",
    "                              method=method)#,\n",
    "                              #tol=tol)"
   ]
  },
  {
   "cell_type": "code",
   "execution_count": 116,
   "id": "eleven-cycle",
   "metadata": {},
   "outputs": [
    {
     "data": {
      "text/plain": [
       "{'BFGS': <main.optimizor at 0x7fc3ee6fe390>,\n",
       " 'CG': <main.optimizor at 0x7fc3ed670e10>,\n",
       " 'Nelder-Mead': <main.optimizor at 0x7fc3ed6a0850>}"
      ]
     },
     "execution_count": 116,
     "metadata": {},
     "output_type": "execute_result"
    }
   ],
   "source": [
    "optims"
   ]
  },
  {
   "cell_type": "code",
   "execution_count": 119,
   "id": "cardiac-plenty",
   "metadata": {},
   "outputs": [
    {
     "data": {
      "text/plain": [
       "[{'Y': {'mu': array([1.04416704, 1.98807537]),\n",
       "   'log_sig': array([-2.07371077, -2.08670865]),\n",
       "   'corr': array([0., 0.])}},\n",
       " [{'Y_star': {'mu': array([0.9786326 , 1.93347288]),\n",
       "    'log_sig': array([-2.16771982, -2.30581028]),\n",
       "    'corr': array([0., 0.])}},\n",
       "  {'Y_star': {'mu': array([0.98641478, 1.98739014]),\n",
       "    'log_sig': array([-1.83384522, -2.06598444]),\n",
       "    'corr': array([0., 0.])}}]]"
      ]
     },
     "execution_count": 119,
     "metadata": {},
     "output_type": "execute_result"
    }
   ],
   "source": [
    "optims[\"CG\"].theta"
   ]
  },
  {
   "cell_type": "code",
   "execution_count": 106,
   "id": "familiar-knock",
   "metadata": {},
   "outputs": [
    {
     "data": {
      "text/plain": [
       "[array([[0.9, 0.1],\n",
       "        [0.1, 0.9]]),\n",
       " [array([[0.75, 0.25],\n",
       "         [0.25, 0.75]]),\n",
       "  array([[0.25, 0.75],\n",
       "         [0.75, 0.25]])]]"
      ]
     },
     "execution_count": 106,
     "metadata": {},
     "output_type": "execute_result"
    }
   ],
   "source": [
    "eta_2_Gamma(optims[\"CG\"].eta)"
   ]
  },
  {
   "cell_type": "code",
   "execution_count": 107,
   "id": "digital-functionality",
   "metadata": {},
   "outputs": [
    {
     "data": {
      "text/plain": [
       "[array([0.9, 0.1]), [array([0.9, 0.1]), array([0.1, 0.9])]]"
      ]
     },
     "execution_count": 107,
     "metadata": {},
     "output_type": "execute_result"
    }
   ],
   "source": [
    "eta0_2_delta(optims[\"CG\"].eta0)"
   ]
  },
  {
   "cell_type": "code",
   "execution_count": 124,
   "id": "italic-spine",
   "metadata": {},
   "outputs": [
    {
     "data": {
      "text/plain": [
       "[{'Y': {'mu': array([1.04411847, 1.98886062]),\n",
       "   'log_sig': array([-2.07383274, -2.08623795]),\n",
       "   'corr': array([0., 0.])}},\n",
       " [{'Y_star': {'mu': array([0.97797678, 1.93351652]),\n",
       "    'log_sig': array([-2.16658525, -2.29888475]),\n",
       "    'corr': array([0., 0.])}},\n",
       "  {'Y_star': {'mu': array([0.9863993 , 1.98740011]),\n",
       "    'log_sig': array([-1.83356964, -2.06611732]),\n",
       "    'corr': array([0., 0.])}}]]"
      ]
     },
     "execution_count": 124,
     "metadata": {},
     "output_type": "execute_result"
    }
   ],
   "source": [
    "optims[\"BFGS\"].theta"
   ]
  },
  {
   "cell_type": "code",
   "execution_count": 122,
   "id": "bibliographic-surgeon",
   "metadata": {},
   "outputs": [
    {
     "data": {
      "text/plain": [
       "[array([[0.82353179, 0.17646821],\n",
       "        [0.07692128, 0.92307872]]),\n",
       " [array([[0.66666649, 0.33333351],\n",
       "         [0.39999998, 0.60000002]]),\n",
       "  array([[0.16666658, 0.83333342],\n",
       "         [0.90000051, 0.09999949]])]]"
      ]
     },
     "execution_count": 122,
     "metadata": {},
     "output_type": "execute_result"
    }
   ],
   "source": [
    "eta_2_Gamma(optims[\"BFGS\"].eta)"
   ]
  },
  {
   "cell_type": "code",
   "execution_count": 123,
   "id": "dirty-catering",
   "metadata": {},
   "outputs": [
    {
     "data": {
      "text/plain": [
       "[array([9.99999999e-01, 5.63666959e-10]),\n",
       " [array([0.83333028, 0.16666972]), array([2.00932347e-16, 1.00000000e+00])]]"
      ]
     },
     "execution_count": 123,
     "metadata": {},
     "output_type": "execute_result"
    }
   ],
   "source": [
    "eta0_2_delta(optims[\"BFGS\"].eta0)"
   ]
  },
  {
   "cell_type": "markdown",
   "id": "demonstrated-toner",
   "metadata": {},
   "source": [
    "# Plot Results"
   ]
  },
  {
   "cell_type": "code",
   "execution_count": 15,
   "id": "continued-warning",
   "metadata": {
    "scrolled": false
   },
   "outputs": [],
   "source": [
    "def plot_ll(optims,x_time=False):\n",
    "    \n",
    "    ll_star = optims[\"control\"].log_like_trace[-1]\n",
    "    legend = []\n",
    "    \n",
    "    for method in methods:\n",
    "        \n",
    "        for partial_E in [0,0.5,1]:\n",
    "            \n",
    "            PE = (partial_E == 0.5) or (partial_E == 1)\n",
    "            M = int(partial_E == 0) + int(partial_E == 0.5) + 10*(partial_E == 1)\n",
    "            \n",
    "            if (method,partial_E) in optims:\n",
    "                \n",
    "                optim = optims[(method,partial_E)]\n",
    "                if x_time:\n",
    "                    plt.plot(optim.time_trace,np.log10(ll_star-optim.log_like_trace))\n",
    "                else:\n",
    "                    plt.plot(optim.epoch_trace,np.log10(ll_star-optim.log_like_trace))    \n",
    "                title = method \n",
    "                if partial_E:\n",
    "                    title += \", partial E\"\n",
    "                else:\n",
    "                    title += \", no partial E\"\n",
    "                title += \", M = %dT\" % M\n",
    "                \n",
    "                legend.append(title)\n",
    "                \n",
    "    plt.ylabel(r\"$\\log_{10}\\left[\\log p(\\mathbf{y} ; \\theta^*, \\eta^*) - \\log p(\\mathbf{y} ; \\theta, \\eta)\\right]$\")\n",
    "    plt.legend(legend)\n",
    "    if x_time:\n",
    "        plt.xlabel(\"Seconds of Computation\")\n",
    "        plt.savefig(\"../plt/log-like_v_time_exp_%d.png\" % experiment,dpi=500)\n",
    "    else:\n",
    "        plt.xlabel(\"Epoch\")\n",
    "        plt.savefig(\"../plt/log-like_v_epoch_exp_%d.png\" % experiment,dpi=500)\n",
    "    plt.show()\n",
    "                \n",
    "    return\n",
    "\n",
    "def plot_results(optim,ll_star,method,partial_E,M,experiment=1,iters=None):\n",
    "    \n",
    "    title = method \n",
    "    if partial_E:\n",
    "        title += \", partial E-step\"\n",
    "    title += \", M = %dT\" % M\n",
    "    \n",
    "    if iters is None:\n",
    "        iters=len(optim.theta_trace)\n",
    "        \n",
    "    if method.startswith(\"SAGA\"):\n",
    "        x = (np.arange(iters) / optim.T)\n",
    "    else:\n",
    "        x = np.arange(iters)\n",
    "    \n",
    "    # plot log of gradient of log-likelihood\n",
    "    plt.plot(np.log10(optim.grad_norm_trace))\n",
    "    plt.axhline(-3, c = 'k', linestyle = \"--\")\n",
    "    plt.title(r\"$\\log_{10}$ of Gradient Norm v Epoch, %s\" % title)\n",
    "    plt.xlabel(\"Epoch (k)\")\n",
    "    plt.ylabel(r\"$\\log ||\\widehat \\nabla_\\theta F^{(k,m)} + \\widehat \\nabla_\\eta G^{(k,m)}||$\")\n",
    "    plt.savefig(\"../plt/grad-hat-ll-%s-%s-%d-%d.png\"%(method,partial_E,M,experiment),dpi=300)\n",
    "    plt.show()\n",
    "\n",
    "    # plot means\n",
    "    legend = []\n",
    "    for k in range(optim.K[0]):\n",
    "        plt.plot(x,[optim.theta_trace[i][0]['Y']['mu'][k] for i in range(iters)])\n",
    "        legend.append(r\"$\\mu^{(%d)}$\"%(k+1))\n",
    "    for hline in range(optim.K[0]):\n",
    "        plt.axhline(hline, c = 'k', linestyle = \"--\")\n",
    "        \n",
    "    plt.title(\"$\\mu$ v Epoch, %s\" % title)\n",
    "    plt.xlabel(\"Epoch\")\n",
    "    plt.legend(legend)\n",
    "    plt.savefig(\"../plt/mu-%s-%s-%d-%d.png\"%(method,partial_E,M,experiment),dpi=500)\n",
    "    plt.show()\n",
    "    \n",
    "    # plot log(sigma)\n",
    "    legend = []\n",
    "    for k in range(optim.K[0]):\n",
    "        plt.plot(x,[optim.theta_trace[i][0]['Y']['log_sig'][k] for i in range(len(optim.theta_trace))])\n",
    "        legend.append(r\"$\\log\\left(\\sigma^{(%d)}\\right)$\"%(k+1))\n",
    "    for hline in range(optim.K[0]):\n",
    "        plt.axhline(hline-1, c = 'k', linestyle = \"--\")\n",
    "        \n",
    "    plt.title(r\"$\\log\\left(\\sigma\\right)$ v Epoch, %s\" % title)\n",
    "    plt.xlabel(\"Epoch\")\n",
    "    plt.legend(legend)\n",
    "    plt.savefig(\"../plt/log-sig-%s-%s-%d-%d.png\"%(method,partial_E,M,experiment),dpi=500)\n",
    "    plt.show()\n",
    "    \n",
    "    # plot eta\n",
    "    legend = []\n",
    "    for k in range(optim.K[0]):\n",
    "        for l in range(optim.K[0]):\n",
    "            if k != l:\n",
    "                plt.plot(x,[optim.eta_trace[i][0][k,l] for i in range(len(optim.eta_trace))])\n",
    "                legend.append(r\"$\\eta^{(%d,%d)}$\" % (k+1,l+1))\n",
    "    plt.title(r\"$\\eta$ v Epoch, %s\" % title)\n",
    "    plt.xlabel(\"Epoch\")\n",
    "    plt.legend(legend)\n",
    "    plt.savefig(\"../plt/eta-%s-%s-%d-%d.png\"%(method,partial_E,M,experiment),dpi=500)\n",
    "    plt.show()"
   ]
  },
  {
   "cell_type": "code",
   "execution_count": 16,
   "id": "completed-disabled",
   "metadata": {
    "scrolled": false
   },
   "outputs": [
    {
     "ename": "KeyError",
     "evalue": "'control'",
     "output_type": "error",
     "traceback": [
      "\u001b[0;31m---------------------------------------------------------------------------\u001b[0m",
      "\u001b[0;31mKeyError\u001b[0m                                  Traceback (most recent call last)",
      "\u001b[0;32m<ipython-input-16-08d0c7ea60b6>\u001b[0m in \u001b[0;36m<module>\u001b[0;34m\u001b[0m\n\u001b[0;32m----> 1\u001b[0;31m \u001b[0mplot_ll\u001b[0m\u001b[0;34m(\u001b[0m\u001b[0moptims\u001b[0m\u001b[0;34m,\u001b[0m\u001b[0mx_time\u001b[0m\u001b[0;34m=\u001b[0m\u001b[0;32mTrue\u001b[0m\u001b[0;34m)\u001b[0m\u001b[0;34m\u001b[0m\u001b[0;34m\u001b[0m\u001b[0m\n\u001b[0m\u001b[1;32m      2\u001b[0m \u001b[0mplot_ll\u001b[0m\u001b[0;34m(\u001b[0m\u001b[0moptims\u001b[0m\u001b[0;34m,\u001b[0m\u001b[0mx_time\u001b[0m\u001b[0;34m=\u001b[0m\u001b[0;32mFalse\u001b[0m\u001b[0;34m)\u001b[0m\u001b[0;34m\u001b[0m\u001b[0;34m\u001b[0m\u001b[0m\n\u001b[1;32m      3\u001b[0m \u001b[0;34m\u001b[0m\u001b[0m\n\u001b[1;32m      4\u001b[0m \u001b[0;32mfor\u001b[0m \u001b[0mmethod\u001b[0m \u001b[0;32min\u001b[0m \u001b[0mmethods\u001b[0m\u001b[0;34m:\u001b[0m\u001b[0;31m#[\"EM\",\"SGD\",\"SAG\",\"SVRG\",\"SAGA\"]:\u001b[0m\u001b[0;34m\u001b[0m\u001b[0;34m\u001b[0m\u001b[0m\n\u001b[1;32m      5\u001b[0m     \u001b[0;32mfor\u001b[0m \u001b[0mpartial_E\u001b[0m \u001b[0;32min\u001b[0m \u001b[0;34m[\u001b[0m\u001b[0;36m0\u001b[0m\u001b[0;34m,\u001b[0m\u001b[0;36m0.5\u001b[0m\u001b[0;34m,\u001b[0m\u001b[0;36m1\u001b[0m\u001b[0;34m]\u001b[0m\u001b[0;34m:\u001b[0m\u001b[0;34m\u001b[0m\u001b[0;34m\u001b[0m\u001b[0m\n",
      "\u001b[0;32m<ipython-input-15-a9171fd61a3f>\u001b[0m in \u001b[0;36mplot_ll\u001b[0;34m(optims, x_time)\u001b[0m\n\u001b[1;32m      1\u001b[0m \u001b[0;32mdef\u001b[0m \u001b[0mplot_ll\u001b[0m\u001b[0;34m(\u001b[0m\u001b[0moptims\u001b[0m\u001b[0;34m,\u001b[0m\u001b[0mx_time\u001b[0m\u001b[0;34m=\u001b[0m\u001b[0;32mFalse\u001b[0m\u001b[0;34m)\u001b[0m\u001b[0;34m:\u001b[0m\u001b[0;34m\u001b[0m\u001b[0;34m\u001b[0m\u001b[0m\n\u001b[1;32m      2\u001b[0m \u001b[0;34m\u001b[0m\u001b[0m\n\u001b[0;32m----> 3\u001b[0;31m     \u001b[0mll_star\u001b[0m \u001b[0;34m=\u001b[0m \u001b[0moptims\u001b[0m\u001b[0;34m[\u001b[0m\u001b[0;34m\"control\"\u001b[0m\u001b[0;34m]\u001b[0m\u001b[0;34m.\u001b[0m\u001b[0mlog_like_trace\u001b[0m\u001b[0;34m[\u001b[0m\u001b[0;34m-\u001b[0m\u001b[0;36m1\u001b[0m\u001b[0;34m]\u001b[0m\u001b[0;34m\u001b[0m\u001b[0;34m\u001b[0m\u001b[0m\n\u001b[0m\u001b[1;32m      4\u001b[0m     \u001b[0mlegend\u001b[0m \u001b[0;34m=\u001b[0m \u001b[0;34m[\u001b[0m\u001b[0;34m]\u001b[0m\u001b[0;34m\u001b[0m\u001b[0;34m\u001b[0m\u001b[0m\n\u001b[1;32m      5\u001b[0m \u001b[0;34m\u001b[0m\u001b[0m\n",
      "\u001b[0;31mKeyError\u001b[0m: 'control'"
     ]
    }
   ],
   "source": [
    "plot_ll(optims,x_time=True)\n",
    "plot_ll(optims,x_time=False)\n",
    "\n",
    "for method in methods:#[\"EM\",\"SGD\",\"SAG\",\"SVRG\",\"SAGA\"]:\n",
    "    for partial_E in [0,0.5,1]:\n",
    "        PE = (partial_E == 0.5) or (partial_E == 1)\n",
    "        M = int(partial_E == 0) + int(partial_E == 0.5) + 10*(partial_E == 1)\n",
    "        if (method,partial_E) in optims:\n",
    "            plot_results(optims[(method,partial_E)],optim_ll,method,PE,M)"
   ]
  },
  {
   "cell_type": "code",
   "execution_count": null,
   "id": "twelve-fraction",
   "metadata": {},
   "outputs": [],
   "source": [
    "print(optims[\"control\"].theta[0])\n",
    "print(optims[\"control\"].theta[1][0])\n",
    "print(optims[\"control\"].theta[1][1])\n",
    "print(\"\")\n",
    "print(optims[(\"EM\",0)].theta[0])\n",
    "print(optims[(\"EM\",0)].theta[1][0])\n",
    "print(optims[(\"EM\",0)].theta[1][1])"
   ]
  },
  {
   "cell_type": "code",
   "execution_count": null,
   "id": "boolean-observation",
   "metadata": {},
   "outputs": [],
   "source": [
    "print(optims[\"control\"].Gamma)\n",
    "print(optims[(\"EM\",0)].Gamma)"
   ]
  },
  {
   "cell_type": "code",
   "execution_count": null,
   "id": "conditional-concentration",
   "metadata": {},
   "outputs": [],
   "source": [
    "print(optims[\"control\"].delta)\n",
    "print(optims[(\"EM\",0)].delta)"
   ]
  },
  {
   "cell_type": "code",
   "execution_count": 60,
   "id": "creative-marriage",
   "metadata": {},
   "outputs": [
    {
     "data": {
      "text/plain": [
       "[{'Y': {'mu': array([ 9.96937719, -0.29586959]),\n",
       "   'log_sig': array([0.14215397, 1.94572625])}},\n",
       " [{'Y_star': {'mu': array([-5.25999333, -0.44228457]),\n",
       "    'log_sig': array([-0.56793053, -1.05387831])}},\n",
       "  {'Y_star': {'mu': array([6.44033909, 0.88178004]),\n",
       "    'log_sig': array([-0.02908815, -0.14621089])}}]]"
      ]
     },
     "execution_count": 60,
     "metadata": {},
     "output_type": "execute_result"
    }
   ],
   "source": [
    "optims['CG'].grad_theta"
   ]
  },
  {
   "cell_type": "code",
   "execution_count": 61,
   "id": "involved-words",
   "metadata": {},
   "outputs": [
    {
     "data": {
      "text/plain": [
       "371.45563424943197"
      ]
     },
     "execution_count": 61,
     "metadata": {},
     "output_type": "execute_result"
    }
   ],
   "source": [
    "logsumexp(optims['CG'].log_alphas[-1])"
   ]
  },
  {
   "cell_type": "code",
   "execution_count": 86,
   "id": "maritime-bacon",
   "metadata": {},
   "outputs": [
    {
     "name": "stdout",
     "output_type": "stream",
     "text": [
      "[{'Y': {'mu': array([1.00246295, 2.00283892]), 'log_sig': array([-2.02967005, -2.08110262])}}, [{'Y_star': {'mu': array([1.99613372, 0.99575565]), 'log_sig': array([-2.03539067, -2.01980537])}}, {'Y_star': {'mu': array([1.99636975, 0.98124397]), 'log_sig': array([-2.04682958, -2.00374404])}}]]\n",
      "371.45563424943197\n",
      "[{'Y': {'mu': array([1.00256295, 2.00283892]), 'log_sig': array([-2.02967005, -2.08110262])}}, [{'Y_star': {'mu': array([1.99613372, 0.99575565]), 'log_sig': array([-2.03539067, -2.01980537])}}, {'Y_star': {'mu': array([1.99636975, 0.98124397]), 'log_sig': array([-2.04682958, -2.00374404])}}]]\n",
      "371.45649735543793\n",
      "[{'Y': {'mu': array([1.00246295, 2.00283892]), 'log_sig': array([-2.02967005, -2.08110262])}}, [{'Y_star': {'mu': array([1.99613372, 0.99575565]), 'log_sig': array([-2.03539067, -2.01980537])}}, {'Y_star': {'mu': array([1.99636975, 0.98124397]), 'log_sig': array([-2.04682958, -2.00374404])}}]]\n",
      "8.631060059656193\n"
     ]
    }
   ],
   "source": [
    "eps = 1e-4\n",
    "\n",
    "print(optims['CG'].theta)\n",
    "ll = logsumexp(optims['CG'].log_alphas[-1])\n",
    "print(ll)\n",
    "\n",
    "optims['CG'].theta[0][\"Y\"][\"mu\"][0] += eps\n",
    "\n",
    "for t in range(optims['CG'].T):\n",
    "    optims['CG'].update_alpha(t)\n",
    "\n",
    "print(optims['CG'].theta)\n",
    "ll0 = logsumexp(optims['CG'].log_alphas[-1])\n",
    "print(ll0)\n",
    "\n",
    "optims['CG'].theta[0][\"Y\"][\"mu\"][0] -= eps\n",
    "\n",
    "for t in range(optims['CG'].T):\n",
    "    optims['CG'].update_alpha(t)\n",
    "\n",
    "print(optims['CG'].theta)\n",
    "print((ll0-ll)/eps)"
   ]
  },
  {
   "cell_type": "code",
   "execution_count": 53,
   "id": "adjusted-complaint",
   "metadata": {},
   "outputs": [
    {
     "name": "stdout",
     "output_type": "stream",
     "text": [
      "[array([[ 0.        , -1.96624642],\n",
      "       [-2.15623005,  0.        ]]), [array([[ 0.        , -1.06856608],\n",
      "       [-1.22382839,  0.        ]]), array([[0.        , 1.09607763],\n",
      "       [1.19142868, 0.        ]])]]\n",
      "371.45563424943197\n",
      "[array([[ 0.        , -1.96624642],\n",
      "       [-2.15623005,  0.        ]]), [array([[ 0.        , -1.06856608],\n",
      "       [-1.22382839,  0.        ]]), array([[0.        , 1.09607763],\n",
      "       [1.19142869, 0.        ]])]]\n",
      "371.45563425603257\n",
      "[array([[ 0.        , -1.96624642],\n",
      "       [-2.15623005,  0.        ]]), [array([[ 0.        , -1.06856608],\n",
      "       [-1.22382839,  0.        ]]), array([[0.        , 1.09607763],\n",
      "       [1.19142868, 0.        ]])]]\n",
      "0.6600600954698166\n"
     ]
    }
   ],
   "source": [
    "eps = 1e-8\n",
    "\n",
    "print(optims['CG'].eta)\n",
    "ll = logsumexp(optims['CG'].log_alphas[-1])\n",
    "print(ll)\n",
    "\n",
    "optims['CG'].eta[1][1][1,0] += eps\n",
    "optims['CG'].get_log_Gamma()\n",
    "\n",
    "for t in range(optims['CG'].T):\n",
    "    optims['CG'].update_alpha(t)\n",
    "\n",
    "print(optims['CG'].eta)\n",
    "ll0 = logsumexp(optims['CG'].log_alphas[-1])\n",
    "print(ll0)\n",
    "\n",
    "optims['CG'].eta[1][1][1,0] -= eps\n",
    "optims['CG'].get_log_Gamma()\n",
    "\n",
    "for t in range(optims['CG'].T):\n",
    "    optims['CG'].update_alpha(t)\n",
    "\n",
    "print(optims['CG'].eta)\n",
    "print((ll0-ll)/eps)"
   ]
  },
  {
   "cell_type": "code",
   "execution_count": null,
   "id": "dangerous-channels",
   "metadata": {},
   "outputs": [],
   "source": []
  }
 ],
 "metadata": {
  "kernelspec": {
   "display_name": "Python 3",
   "language": "python",
   "name": "python3"
  },
  "language_info": {
   "codemirror_mode": {
    "name": "ipython",
    "version": 3
   },
   "file_extension": ".py",
   "mimetype": "text/x-python",
   "name": "python",
   "nbconvert_exporter": "python",
   "pygments_lexer": "ipython3",
   "version": "3.7.6"
  }
 },
 "nbformat": 4,
 "nbformat_minor": 5
}
