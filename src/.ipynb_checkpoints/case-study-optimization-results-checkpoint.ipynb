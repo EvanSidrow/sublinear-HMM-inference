{
 "cells": [
  {
   "cell_type": "code",
   "execution_count": 13,
   "id": "acute-library",
   "metadata": {},
   "outputs": [],
   "source": [
    "import sys\n",
    "import os\n",
    "\n",
    "import pandas as pd\n",
    "import numpy as np\n",
    "import numdifftools as ndt\n",
    "import statsmodels.api as sm\n",
    "\n",
    "import matplotlib.pyplot as plt\n",
    "plt.style.use('tableau-colorblind10')\n",
    "import matplotlib.cm as cm\n",
    "from matplotlib.patches import Patch\n",
    "from matplotlib.patches import Rectangle\n",
    "from matplotlib.lines import Line2D\n",
    "from matplotlib.dates import DateFormatter\n",
    "\n",
    "from scipy.stats import gamma\n",
    "from scipy.stats import norm\n",
    "from scipy.stats import truncnorm\n",
    "from scipy.stats import vonmises\n",
    "from scipy.stats import multivariate_normal\n",
    "from scipy.stats import gaussian_kde\n",
    "from scipy.stats import circstd\n",
    "from scipy.special import iv\n",
    "from scipy.special import expit\n",
    "from scipy.special import logit\n",
    "from scipy.special import logsumexp\n",
    "from scipy.optimize import minimize\n",
    "from scipy.optimize import minimize_scalar\n",
    "from scipy.optimize import LinearConstraint\n",
    "from scipy.optimize import linear_sum_assignment\n",
    "from scipy.signal import convolve\n",
    "from scipy.interpolate import interp1d\n",
    "from scipy.linalg import block_diag\n",
    "\n",
    "from datetime import datetime\n",
    "from time import gmtime, strftime\n",
    "\n",
    "from math import isclose\n",
    "from copy import deepcopy\n",
    "from itertools import product\n",
    "import importlib\n",
    "import time\n",
    "import pickle\n",
    "import random\n",
    "\n",
    "import helper_funcs\n",
    "import HHMM\n",
    "import optimizor\n",
    "import stoch_optimizor\n",
    "\n",
    "from helper_funcs import eta_2_log_Gamma\n",
    "from helper_funcs import eta0_2_log_delta\n",
    "from helper_funcs import log_Gamma_2_eta\n",
    "from helper_funcs import log_delta_2_eta0\n",
    "\n",
    "np.random.seed(0)\n",
    "random.seed(0)"
   ]
  },
  {
   "cell_type": "markdown",
   "id": "3a2aa936",
   "metadata": {},
   "source": [
    "# Set Parameters"
   ]
  },
  {
   "cell_type": "code",
   "execution_count": 14,
   "id": "important-throat",
   "metadata": {},
   "outputs": [],
   "source": [
    "date = \"2023-04-14\" # this is the subfolder where we held the results for our case study\n",
    "\n",
    "param_folder = \"../params/case_study/\" + date\n",
    "plot_folder = \"../plt/case_study/\" + date\n",
    "\n",
    "methods = [\"control\",\"BFGS\",\"SAGA\",\"SVRG\",\"GD\",\"CG\"]\n",
    "\n",
    "K = [3,3]\n",
    "\n",
    "partial_Es = [0.0,0.5,1.0]\n",
    "\n",
    "tol = 1e-2\n",
    "\n",
    "optims = {}\n",
    "times_to_converge = {}\n",
    "epochs_to_converge = {}\n",
    "lls = {}"
   ]
  },
  {
   "cell_type": "markdown",
   "id": "8c9135d4",
   "metadata": {},
   "source": [
    "# Load HMMs"
   ]
  },
  {
   "cell_type": "code",
   "execution_count": 15,
   "id": "headed-smith",
   "metadata": {
    "scrolled": true
   },
   "outputs": [],
   "source": [
    "for method in methods:\n",
    "    for partial_E in partial_Es:\n",
    "        if method in [\"BFGS\",\"CG\",\"GD\",\"control\"] and partial_E > 0.0:\n",
    "            pass\n",
    "        else:\n",
    "            \n",
    "            # get best ll\n",
    "            best_ll = -np.infty\n",
    "            best_fname = param_folder + \"/case_study_K-%d-%d_%s_%.1f_%03d\" % (K[0],K[1],method,partial_E,0)\n",
    "            \n",
    "            # initialize lls\n",
    "            lls[(method,partial_E)] = []\n",
    "            \n",
    "            # initialize epochs\n",
    "            epochs_to_converge[(method,partial_E)] = []\n",
    "            \n",
    "            # initialize times\n",
    "            times_to_converge[(method,partial_E)] = []\n",
    "            \n",
    "            for rand_seed in range(50):\n",
    "                \n",
    "                fname = param_folder + \"/case_study_K-%d-%d_%s_%.1f_%03d\" % (K[0],K[1],method,partial_E,rand_seed)\n",
    "                \n",
    "                try:\n",
    "                    with open(fname, 'rb') as f:\n",
    "                        optim = pickle.load(f)\n",
    "                except:\n",
    "                    epochs_to_converge[(method,partial_E)].append(np.nan)\n",
    "                    times_to_converge[(method,partial_E)].append(np.nan)\n",
    "                    lls[(method,partial_E)].append(np.nan)\n",
    "                    continue\n",
    "                \n",
    "                # check for some issue (likely nan in theta)\n",
    "                if len(optim.time_trace) == 0:\n",
    "                    epochs_to_converge[(method,partial_E)].append(np.nan)\n",
    "                    times_to_converge[(method,partial_E)].append(np.nan)\n",
    "                    lls[(method,partial_E)].append(np.nan)\n",
    "                    continue\n",
    "                    \n",
    "                \n",
    "                # get convergence ind\n",
    "                converge_ind = min(np.where(np.array(optim.grad_norm_trace) < tol)[0],\n",
    "                                   default=len(optim.grad_norm_trace)-1)\n",
    "                \n",
    "                epochs_to_converge[(method,partial_E)].append(optim.epoch_trace[converge_ind])\n",
    "                times_to_converge[(method,partial_E)].append(optim.time_trace[converge_ind])\n",
    "                lls[(method,partial_E)].append(optim.log_like_trace[converge_ind])\n",
    "                \n",
    "                if optim.log_like_trace[-1] > best_ll:    \n",
    "                    optims[(method,partial_E)] = optim\n",
    "                    best_fname = fname\n",
    "                    best_ll = optim.log_like_trace[-1]"
   ]
  },
  {
   "cell_type": "markdown",
   "id": "ed431e53",
   "metadata": {},
   "source": [
    "# Get best model"
   ]
  },
  {
   "cell_type": "code",
   "execution_count": 16,
   "id": "2b6af7fe",
   "metadata": {},
   "outputs": [],
   "source": [
    "methods = [\"BFGS\",\"CG\",\"GD\",\"SAGA\",\"SVRG\"]\n",
    "cmap = cm.get_cmap('tab10')\n",
    "\n",
    "linestyles = {(\"BFGS\",0.0):(\"black\",\"-\"),\n",
    "              (\"CG\",0.0)  :(\"black\",\"--\"),\n",
    "              (\"GD\",0.0)  :(\"black\",\":\"),\n",
    "              (\"SAGA\",0.0):(cmap(0),\"-\"),\n",
    "              (\"SAGA\",0.5):(cmap(0),\"--\"),\n",
    "              (\"SAGA\",1.0):(cmap(0),\":\"),\n",
    "              (\"SVRG\",0.0):(cmap(1),\"-\"),\n",
    "              (\"SVRG\",0.5):(cmap(1),\"--\"),\n",
    "              (\"SVRG\",1.0):(cmap(1),\":\")}\n",
    "\n",
    "ll_star = optims[(\"BFGS\",0.0)].log_like_trace[-1]\n",
    "theta_star = optims[(\"BFGS\",0.0)].theta\n",
    "eta_star = optims[(\"BFGS\",0.0)].eta\n",
    "eta0_star = optims[(\"BFGS\",0.0)].eta0\n",
    "\n",
    "for key in optims:\n",
    "    \n",
    "    if ll_star < optims[key].log_like_trace[-1]:\n",
    "        \n",
    "        update_ll = True\n",
    "        for feature,k0,k1 in product(optims[key].features,range(optims[key].K[0]),range(optims[key].K[1])):\n",
    "            if \"log_sig\" in optims[key].theta[k0][feature]:\n",
    "                if optims[key].theta[k0][feature]['log_sig'][k1] < -5:\n",
    "                    update_ll = False\n",
    "                    break\n",
    "                        \n",
    "        if update_ll:\n",
    "            ll_star = optims[key].log_like_trace[-1]\n",
    "            Gamma_star = np.exp(optims[key].log_Gamma)\n",
    "            theta_star = optims[key].theta\n",
    "            eta_star = optims[key].eta\n",
    "            eta0_star = optims[key].eta0"
   ]
  },
  {
   "cell_type": "markdown",
   "id": "3ce5d21b",
   "metadata": {},
   "source": [
    "# Plot Boxplots "
   ]
  },
  {
   "cell_type": "code",
   "execution_count": 5,
   "id": "6fa7070d",
   "metadata": {},
   "outputs": [
    {
     "name": "stdout",
     "output_type": "stream",
     "text": [
      "('SAGA', 0.0)\n",
      "('SAGA', 0.5)\n",
      "('SAGA', 1.0)\n",
      "('SVRG', 0.0)\n",
      "('SVRG', 0.5)\n",
      "('SVRG', 1.0)\n",
      "('BFGS', 0.0)\n"
     ]
    },
    {
     "data": {
      "image/png": "[encoded data removed]",
      "text/plain": [
       "<Figure size 576x288 with 2 Axes>"
      ]
     },
     "metadata": {
      "needs_background": "light"
     },
     "output_type": "display_data"
    }
   ],
   "source": [
    "fig1, axs1 = plt.subplots(1,2,figsize = (8,4))\n",
    "\n",
    "cmap = cm.get_cmap('tab10')\n",
    "partial_Es = [0,0.5,1]\n",
    "\n",
    "keys = [(\"SAGA\",0.0),\n",
    "        (\"SAGA\",0.5),\n",
    "        (\"SAGA\",1.0),\n",
    "        (\"SVRG\",0.0),\n",
    "        (\"SVRG\",0.5),\n",
    "        (\"SVRG\",1.0),\n",
    "        (\"BFGS\",0.0)]\n",
    "\n",
    "labs = [\"FE\",\"PE1\",\"PE2\",\"FE\",\"PE1\",\"PE2\",\"C\"]\n",
    "\n",
    "data_to_plot = []\n",
    "for key in keys:\n",
    "    \n",
    "    data_to_plot.append(epochs_to_converge[key])\n",
    "\n",
    "box = axs1[0].boxplot(data_to_plot, \n",
    "                      whiskerprops=dict(color=\"black\"),\n",
    "                      medianprops=dict(color=\"black\"),\n",
    "                      patch_artist=True,\n",
    "                      labels=labs)\n",
    "\n",
    "linestyles = {(\"BFGS\",0.0):(\"black\",\"-\"),\n",
    "              (\"CG\",0.0)  :(\"black\",\"--\"),\n",
    "              (\"GD\",0.0)  :(\"black\",\":\"),\n",
    "              (\"SAGA\",0.0):(cmap(0),\"-\"),\n",
    "              (\"SAGA\",0.5):(cmap(0),\"--\"),\n",
    "              (\"SAGA\",1.0):(cmap(0),\":\"),\n",
    "              (\"SVRG\",0.0):(cmap(1),\"-\"),\n",
    "              (\"SVRG\",0.5):(cmap(1),\"--\"),\n",
    "              (\"SVRG\",1.0):(cmap(1),\":\")}\n",
    "\n",
    "for patch, key in zip(box['boxes'], keys):\n",
    "    print(key)\n",
    "    patch.set_facecolor(linestyles[key][0])\n",
    "    patch.set_alpha(0.5)\n",
    "\n",
    "axs1[0].set_ylabel(\"Epochs to Converge\",fontsize=16)\n",
    "axs1[0].set_ylim([0,150])\n",
    "axs1[0].set_title(\"Epochs until Convergence\",fontsize=16)\n",
    "axs1[0].tick_params(axis='both', which='major', labelsize=12)\n",
    "\n",
    "#######\n",
    "\n",
    "data_to_plot = []\n",
    "for key in keys:\n",
    "    data_to_plot.append(ll_star - lls[key])\n",
    "\n",
    "box = axs1[1].boxplot(data_to_plot, \n",
    "                       whiskerprops=dict(color=\"black\"),\n",
    "                       medianprops=dict(color=\"black\"),\n",
    "                       patch_artist=True,\n",
    "                       labels=labs)\n",
    "\n",
    "linestyles = {(\"BFGS\",0.0):(\"black\",\"-\"),\n",
    "              (\"CG\",0.0)  :(\"black\",\"--\"),\n",
    "              (\"GD\",0.0)  :(\"black\",\":\"),\n",
    "              (\"SAGA\",0.0):(cmap(0),\"-\"),\n",
    "              (\"SAGA\",0.5):(cmap(0),\"--\"),\n",
    "              (\"SAGA\",1.0):(cmap(0),\":\"),\n",
    "              (\"SVRG\",0.0):(cmap(1),\"-\"),\n",
    "              (\"SVRG\",0.5):(cmap(1),\"--\"),\n",
    "              (\"SVRG\",1.0):(cmap(1),\":\")}\n",
    "\n",
    "for patch, key in zip(box['boxes'], keys):\n",
    "    patch.set_facecolor(linestyles[key][0])\n",
    "    patch.set_alpha(0.5)\n",
    "\n",
    "axs1[1].set_ylabel(r\"$\\frac{1}{T} \\left[\\ell(\\phi^*) - \\ell(\\phi)\\right]$\",fontsize=16)\n",
    "axs1[1].set_yscale(\"log\")\n",
    "axs1[1].set_title(\"Loss at Convergence\",fontsize=16)\n",
    "axs1[1].tick_params(axis='both', which='major', labelsize=12)\n",
    "axs1[1].yaxis.tick_right()\n",
    "\n",
    "\n",
    "if not os.path.isdir(plot_folder):\n",
    "    os.mkdir(plot_folder)\n",
    "\n",
    "fig1.savefig(plot_folder + '/boxplots_case_study.png',dpi=500,bbox_inches='tight')"
   ]
  },
  {
   "cell_type": "markdown",
   "id": "8145706a",
   "metadata": {},
   "source": [
    "# Plot Scatterplots"
   ]
  },
  {
   "cell_type": "code",
   "execution_count": 6,
   "id": "5a057a08",
   "metadata": {},
   "outputs": [
    {
     "data": {
      "image/png": "[encoded data removed]",
      "text/plain": [
       "<Figure size 576x432 with 1 Axes>"
      ]
     },
     "metadata": {
      "needs_background": "light"
     },
     "output_type": "display_data"
    }
   ],
   "source": [
    "fig1, axs1 = plt.subplots(1,1,figsize = (8,6))\n",
    "\n",
    "cmap = cm.get_cmap('tab10')\n",
    "partial_Es = [0,0.5,1]\n",
    "\n",
    "keys = [(\"SAGA\",0.0),\n",
    "        (\"SAGA\",0.5),\n",
    "        (\"SAGA\",1.0),\n",
    "        (\"SVRG\",0.0),\n",
    "        (\"SVRG\",0.5),\n",
    "        (\"SVRG\",1.0),\n",
    "        (\"BFGS\",0.0),\n",
    "        (\"CG\",0.0)]\n",
    "\n",
    "labs = [\"BFGS\",0,0.5,1,0,0.5,1]\n",
    "\n",
    "# define linestyles\n",
    "pointstyles = {(\"BFGS\",0.0):(\"black\",\"o\"),\n",
    "               (\"CG\",0.0)  :(\"black\",\"s\"),\n",
    "               (\"GD\",0.0)  :(\"black\",\"*\"),\n",
    "               (\"SVRG\",0.0):(cmap(1),\"o\"),\n",
    "               (\"SVRG\",0.5):(cmap(1),\"s\"),\n",
    "               (\"SVRG\",1.0):(cmap(1),\"*\"),\n",
    "               (\"SAGA\",0.0):(cmap(0),\"o\"),\n",
    "               (\"SAGA\",0.5):(cmap(0),\"s\"),\n",
    "               (\"SAGA\",1.0):(cmap(0),\"*\")}\n",
    "\n",
    "legend_elem = {(\"BFGS\",0.0): \"BFGS\",\n",
    "               (\"CG\",0.0)  : \"Conjugate Gradient\",\n",
    "               (\"GD\",0.0)  : \"GD\",\n",
    "               (\"SVRG\",0.0): \"SVRG-FE, M=T\",\n",
    "               (\"SVRG\",0.5): \"SVRG-PE, M=T\",\n",
    "               (\"SVRG\",1.0): \"SVRG-PE, M=10T\",\n",
    "               (\"SAGA\",0.0): \"SAGA-FE, M=T\",\n",
    "               (\"SAGA\",0.5): \"SAGA-PE, M=T\",\n",
    "               (\"SAGA\",1.0): \"SAGA-PE, M=10T\"}\n",
    "\n",
    "# get data\n",
    "epochs_to_plot = []\n",
    "for key in keys:\n",
    "    epochs_to_plot.append(epochs_to_converge[key])\n",
    "\n",
    "lls_to_plot = []\n",
    "for key in keys:\n",
    "    lls_to_plot.append(ll_star - lls[key])\n",
    "\n",
    "# plot data\n",
    "for key,epoch_data,ll_data in zip(keys,epochs_to_plot,lls_to_plot):\n",
    "    axs1.scatter(epoch_data,ll_data,\n",
    "                 color = pointstyles[key][0],\n",
    "                 marker = pointstyles[key][1])\n",
    "\n",
    "# adjust axes\n",
    "axs1.set_yscale('log')\n",
    "axs1.set_ylabel(r\"$\\frac{1}{T} \\left[\\ell(\\phi^*) - \\ell(\\phi)\\right]$\",fontsize=16)\n",
    "axs1.set_xlabel(\"Epochs to converge\",fontsize=16)\n",
    "axs1.set_xlim([0,None])\n",
    "\n",
    "axs1.tick_params(axis='both', which='major', labelsize=14)\n",
    "axs1.tick_params(axis='both', which='minor', labelsize=14)\n",
    "\n",
    "fig1.legend([legend_elem[key] for key in keys],\n",
    "            loc='upper center', \n",
    "            fontsize=14,\n",
    "            bbox_to_anchor=(0.5, 1.06),\n",
    "            ncol=3)\n",
    "\n",
    "#axs1.legend([legend_elem[key] for key in keys],fontsize=12)\n",
    "\n",
    "if not os.path.isdir(plot_folder):\n",
    "    os.mkdir(plot_folder)\n",
    "\n",
    "fig1.savefig(plot_folder + '/scatterplot_case_study.png',dpi=500,bbox_inches='tight')"
   ]
  },
  {
   "cell_type": "markdown",
   "id": "demonstrated-toner",
   "metadata": {},
   "source": [
    "# Plot Log-Likelihood Traces"
   ]
  },
  {
   "cell_type": "code",
   "execution_count": 17,
   "id": "01409e10",
   "metadata": {},
   "outputs": [
    {
     "data": {
      "text/plain": [
       "{('control', 0.0): <stoch_optimizor.StochOptimizor at 0x7fa12c5b0a90>,\n",
       " ('BFGS', 0.0): <stoch_optimizor.StochOptimizor at 0x7fa0fe3285e0>,\n",
       " ('SAGA', 0.0): <stoch_optimizor.StochOptimizor at 0x7fa0e24f5e50>,\n",
       " ('SAGA', 0.5): <stoch_optimizor.StochOptimizor at 0x7fa0ede5c670>,\n",
       " ('SAGA', 1.0): <stoch_optimizor.StochOptimizor at 0x7fa12c035c70>,\n",
       " ('SVRG', 0.0): <stoch_optimizor.StochOptimizor at 0x7fa0fe29ed30>,\n",
       " ('SVRG', 0.5): <stoch_optimizor.StochOptimizor at 0x7fa0e598fa60>,\n",
       " ('SVRG', 1.0): <stoch_optimizor.StochOptimizor at 0x7fa0e598f880>,\n",
       " ('GD', 0.0): <stoch_optimizor.StochOptimizor at 0x7fa12c56f460>,\n",
       " ('CG', 0.0): <stoch_optimizor.StochOptimizor at 0x7fa0e221cb50>}"
      ]
     },
     "execution_count": 17,
     "metadata": {},
     "output_type": "execute_result"
    }
   ],
   "source": [
    "optims"
   ]
  },
  {
   "cell_type": "code",
   "execution_count": 19,
   "id": "77aa4157",
   "metadata": {},
   "outputs": [
    {
     "data": {
      "text/plain": [
       "-0.48120535864043396"
      ]
     },
     "execution_count": 19,
     "metadata": {},
     "output_type": "execute_result"
    }
   ],
   "source": [
    "optims[('SVRG', 0.5)].log_like_trace[-1]"
   ]
  },
  {
   "cell_type": "code",
   "execution_count": 18,
   "id": "7fc4e917",
   "metadata": {},
   "outputs": [
    {
     "data": {
      "text/plain": [
       "-0.4810617223844701"
      ]
     },
     "execution_count": 18,
     "metadata": {},
     "output_type": "execute_result"
    }
   ],
   "source": [
    "optims[('BFGS', 0.0)].log_like_trace[-1]"
   ]
  },
  {
   "cell_type": "code",
   "execution_count": 41,
   "id": "c2229060",
   "metadata": {},
   "outputs": [],
   "source": [
    "def plot_ll(optims,x_time=False,xlims=None,ylims=None):\n",
    "    \n",
    "    labels = {(\"SAGA\",0.0): \"SAGA-FE, M=T\",\n",
    "          (\"SAGA\",0.5): \"SAGA-PE, M=T\",\n",
    "          (\"SAGA\",1.0): \"SAGA-PE, M=10T\",\n",
    "          (\"SVRG\",0.0): \"SVRG-FE, M=T\",\n",
    "          (\"SVRG\",0.5): \"SVRG-PE, M=T\",\n",
    "          (\"SVRG\",1.0): \"SVRG-PE, M=10T\",\n",
    "          (\"BFGS\",0.0): \"BFGS\",\n",
    "          (\"CG\",0.0)  : \"Conjugate Gradient\",\n",
    "          (\"GD\",0.0)  : \"Gradient Descent\",}\n",
    "    \n",
    "    linestyles = {(\"BFGS\",0.0):(\"black\",\"-\"),\n",
    "                  (\"CG\",0.0)  :(\"black\",\"--\"),\n",
    "                  (\"GD\",0.0)  :(\"black\",\":\"),\n",
    "                  (\"SAGA\",0.0):(cmap(1),\"-\"),\n",
    "                  (\"SAGA\",0.5):(cmap(1),\"--\"),\n",
    "                  (\"SAGA\",1.0):(cmap(1),\":\"),\n",
    "                  (\"SVRG\",0.0):(cmap(0),\"-\"),\n",
    "                  (\"SVRG\",0.5):(cmap(0),\"--\"),\n",
    "                  (\"SVRG\",1.0):(cmap(0),\":\")}\n",
    "    \n",
    "    labels = {#(\"SAGA\",0.0): \"SAGA-FE, M=T\",\n",
    "              #(\"SAGA\",0.5): \"SAGA-PE, M=T\",\n",
    "              #(\"SAGA\",1.0): \"SAGA-PE, M=10T\",\n",
    "              (\"SVRG\",0.5): \"Partial E, SVRG M step\",\n",
    "              #(\"SVRG\",0.5): \"SVRG-PE, M=T\",\n",
    "              #(\"SVRG\",1.0): \"SVRG-PE, M=10T\",\n",
    "              (\"BFGS\",0.0): \"BFGS\",\n",
    "              #(\"CG\",0.0)  : \"Conjugate Gradient\",\n",
    "              #(\"GD\",0.0)  : \"Gradient Descent\"\n",
    "              }\n",
    "\n",
    "    legend_elements = []\n",
    "\n",
    "    for key in labels:\n",
    "        legend_elements.append(Line2D([0], [0], \n",
    "                                      color=linestyles[key][0], \n",
    "                                      linestyle=linestyles[key][1], \n",
    "                                      label=labels[key]))\n",
    "    plt.figure(figsize=(8,6))\n",
    "    \n",
    "    # get new optimal value\n",
    "    ll_star0 = optims[('SVRG', 0.5)].log_like_trace[-1]\n",
    "    print(ll_star0)\n",
    "    \n",
    "    # make lines\n",
    "    for method in [\"SVRG\",\"BFGS\"]:#methods:\n",
    "        if method == \"SVRG\":\n",
    "            partial_E = 0.5\n",
    "        else:\n",
    "            partial_E = 0\n",
    "            \n",
    "        #for partial_E in [0.5]#[0,0.5,1]:\n",
    "        PE = (partial_E == 0.5) or (partial_E == 1)\n",
    "        M = int(partial_E == 0) + int(partial_E == 0.5) + 10*(partial_E == 1)\n",
    "        if (method,partial_E) in optims:\n",
    "\n",
    "            optim = optims[(method,partial_E)]\n",
    "            ltyp = linestyles[(method,partial_E)][1]\n",
    "\n",
    "            eind = min(np.where(np.array(optim.epoch_trace) >= 150)[0],\n",
    "                       default=len(optim.grad_norm_trace))\n",
    "\n",
    "            if x_time:\n",
    "                plt.plot([x / 3600 for x in optim.time_trace[:eind]],\n",
    "                         ll_star0-optim.log_like_trace[:eind],\n",
    "                         color=linestyles[(method,partial_E)][0],\n",
    "                         linestyle=linestyles[(method,partial_E)][1])\n",
    "            else:\n",
    "                plt.plot(optim.epoch_trace[:eind],\n",
    "                         ll_star0-optim.log_like_trace[:eind],\n",
    "                         color=linestyles[(method,partial_E)][0],\n",
    "                         linestyle=linestyles[(method,partial_E)][1])\n",
    "            title = method \n",
    "            if partial_E:\n",
    "                title += \", partial E\"\n",
    "            else:\n",
    "                title += \", no partial E\"\n",
    "            title += \", M = %dT\" % M\n",
    "         \n",
    "        \n",
    "    #plt.ylabel(r\"$\\frac{1}{T} \\left[\\ell(\\phi^*) - \\ell(\\phi)\\right]$\",fontsize=18)\n",
    "    plt.ylabel(\"Loss Function Gap\",fontsize=18)\n",
    "    plt.yscale(\"log\")\n",
    "    plt.legend(handles=legend_elements,\n",
    "               loc='upper center', \n",
    "               fontsize=14,\n",
    "               bbox_to_anchor=(0.5, 1.24),\n",
    "               ncol=3)\n",
    "\n",
    "    plt.xticks(fontsize=14)\n",
    "    plt.yticks(fontsize=14)\n",
    "    \n",
    "    # add points          \n",
    "    for method in []:#methods:\n",
    "        for partial_E in [0,0.5,1]:\n",
    "            PE = (partial_E == 0.5) or (partial_E == 1)\n",
    "            M = int(partial_E == 0) + int(partial_E == 0.5) + 10*(partial_E == 1)\n",
    "            if (method,partial_E) in optims:\n",
    "                optim = optims[(method,partial_E)]\n",
    "                eind = min(np.where(np.array(optim.epoch_trace) >= 150)[0],\n",
    "                           default=len(optim.grad_norm_trace))\n",
    "                converge_ind = min(np.where(np.array(optim.grad_norm_trace) < tol)[0],\n",
    "                                   default=len(optim.grad_norm_trace)-1)\n",
    "                \n",
    "                if converge_ind >= eind-1:\n",
    "                    continue\n",
    "                    \n",
    "                if x_time:\n",
    "                    plt.plot(optim.time_trace[converge_ind] / 3600,\n",
    "                             ll_star0-optim.log_like_trace[converge_ind],\n",
    "                             color = pointstyles[(method,partial_E)][0],\n",
    "                             marker = pointstyles[(method,partial_E)][1])\n",
    "                else:\n",
    "                    plt.plot(optim.epoch_trace[converge_ind],\n",
    "                             ll_star0-optim.log_like_trace[converge_ind],\n",
    "                             color = pointstyles[(method,partial_E)][0],\n",
    "                             marker = pointstyles[(method,partial_E)][1])\n",
    "    \n",
    "    if x_time:\n",
    "        plt.xlabel(\"Hours of Computation\",fontsize=18)\n",
    "        plt.savefig(plot_folder + \"/log-like_v_time_K-%d-%d.png\"%(K[0],K[1]),\n",
    "                    dpi=500,\n",
    "                    bbox_inches='tight')\n",
    "    else:\n",
    "        plt.xlabel(\"Epoch\",fontsize=18)\n",
    "        plt.savefig(plot_folder + \"/log-like_v_epoch_K-%d-%d.png\"%(K[0],K[1]),\n",
    "                    dpi=500,\n",
    "                    bbox_inches='tight')\n",
    "        \n",
    "    if not xlims is None:\n",
    "        plt.xlim(xlims)\n",
    "    if not ylims is None:\n",
    "        plt.ylim(ylims)\n",
    "        \n",
    "    plt.show()\n",
    "                \n",
    "    return"
   ]
  },
  {
   "cell_type": "code",
   "execution_count": 42,
   "id": "dying-pontiac",
   "metadata": {},
   "outputs": [
    {
     "name": "stdout",
     "output_type": "stream",
     "text": [
      "-0.48120535864043396\n"
     ]
    },
    {
     "ename": "TypeError",
     "evalue": "unsupported operand type(s) for /: 'list' and 'int'",
     "output_type": "error",
     "traceback": [
      "\u001b[0;31m---------------------------------------------------------------------------\u001b[0m",
      "\u001b[0;31mTypeError\u001b[0m                                 Traceback (most recent call last)",
      "Input \u001b[0;32mIn [42]\u001b[0m, in \u001b[0;36m<cell line: 4>\u001b[0;34m()\u001b[0m\n\u001b[1;32m      1\u001b[0m \u001b[38;5;28;01mif\u001b[39;00m \u001b[38;5;129;01mnot\u001b[39;00m os\u001b[38;5;241m.\u001b[39mpath\u001b[38;5;241m.\u001b[39misdir(plot_folder):\n\u001b[1;32m      2\u001b[0m     os\u001b[38;5;241m.\u001b[39mmkdir(plot_folder)\n\u001b[0;32m----> 4\u001b[0m \u001b[43mplot_ll\u001b[49m\u001b[43m(\u001b[49m\u001b[43moptims\u001b[49m\u001b[43m,\u001b[49m\u001b[43mx_time\u001b[49m\u001b[38;5;241;43m=\u001b[39;49m\u001b[38;5;28;43;01mTrue\u001b[39;49;00m\u001b[43m)\u001b[49m\n\u001b[1;32m      5\u001b[0m plot_ll(optims,x_time\u001b[38;5;241m=\u001b[39m\u001b[38;5;28;01mFalse\u001b[39;00m)\n",
      "Input \u001b[0;32mIn [41]\u001b[0m, in \u001b[0;36mplot_ll\u001b[0;34m(optims, x_time, xlims, ylims)\u001b[0m\n\u001b[1;32m     62\u001b[0m eind \u001b[38;5;241m=\u001b[39m \u001b[38;5;28mmin\u001b[39m(np\u001b[38;5;241m.\u001b[39mwhere(np\u001b[38;5;241m.\u001b[39marray(optim\u001b[38;5;241m.\u001b[39mepoch_trace) \u001b[38;5;241m>\u001b[39m\u001b[38;5;241m=\u001b[39m \u001b[38;5;241m150\u001b[39m)[\u001b[38;5;241m0\u001b[39m],\n\u001b[1;32m     63\u001b[0m            default\u001b[38;5;241m=\u001b[39m\u001b[38;5;28mlen\u001b[39m(optim\u001b[38;5;241m.\u001b[39mgrad_norm_trace))\n\u001b[1;32m     65\u001b[0m \u001b[38;5;28;01mif\u001b[39;00m x_time:\n\u001b[0;32m---> 66\u001b[0m     plt\u001b[38;5;241m.\u001b[39mplot(\u001b[43moptim\u001b[49m\u001b[38;5;241;43m.\u001b[39;49m\u001b[43mtime_trace\u001b[49m\u001b[43m[\u001b[49m\u001b[43m:\u001b[49m\u001b[43meind\u001b[49m\u001b[43m]\u001b[49m\u001b[43m \u001b[49m\u001b[38;5;241;43m/\u001b[39;49m\u001b[43m \u001b[49m\u001b[38;5;241;43m3600\u001b[39;49m,\n\u001b[1;32m     67\u001b[0m              ll_star0\u001b[38;5;241m-\u001b[39moptim\u001b[38;5;241m.\u001b[39mlog_like_trace[:eind],\n\u001b[1;32m     68\u001b[0m              color\u001b[38;5;241m=\u001b[39mlinestyles[(method,partial_E)][\u001b[38;5;241m0\u001b[39m],\n\u001b[1;32m     69\u001b[0m              linestyle\u001b[38;5;241m=\u001b[39mlinestyles[(method,partial_E)][\u001b[38;5;241m1\u001b[39m])\n\u001b[1;32m     70\u001b[0m \u001b[38;5;28;01melse\u001b[39;00m:\n\u001b[1;32m     71\u001b[0m     plt\u001b[38;5;241m.\u001b[39mplot(optim\u001b[38;5;241m.\u001b[39mepoch_trace[:eind],\n\u001b[1;32m     72\u001b[0m              ll_star0\u001b[38;5;241m-\u001b[39moptim\u001b[38;5;241m.\u001b[39mlog_like_trace[:eind],\n\u001b[1;32m     73\u001b[0m              color\u001b[38;5;241m=\u001b[39mlinestyles[(method,partial_E)][\u001b[38;5;241m0\u001b[39m],\n\u001b[1;32m     74\u001b[0m              linestyle\u001b[38;5;241m=\u001b[39mlinestyles[(method,partial_E)][\u001b[38;5;241m1\u001b[39m])\n",
      "\u001b[0;31mTypeError\u001b[0m: unsupported operand type(s) for /: 'list' and 'int'"
     ]
    },
    {
     "data": {
      "text/plain": [
       "<Figure size 576x432 with 0 Axes>"
      ]
     },
     "metadata": {},
     "output_type": "display_data"
    }
   ],
   "source": [
    "if not os.path.isdir(plot_folder):\n",
    "    os.mkdir(plot_folder)\n",
    "    \n",
    "plot_ll(optims,x_time=True)\n",
    "plot_ll(optims,x_time=False)"
   ]
  },
  {
   "cell_type": "code",
   "execution_count": 25,
   "id": "cd918ec8",
   "metadata": {},
   "outputs": [
    {
     "ename": "NameError",
     "evalue": "name 'll_star0' is not defined",
     "output_type": "error",
     "traceback": [
      "\u001b[0;31m---------------------------------------------------------------------------\u001b[0m",
      "\u001b[0;31mNameError\u001b[0m                                 Traceback (most recent call last)",
      "Input \u001b[0;32mIn [25]\u001b[0m, in \u001b[0;36m<cell line: 1>\u001b[0;34m()\u001b[0m\n\u001b[0;32m----> 1\u001b[0m \u001b[43mll_star0\u001b[49m\n",
      "\u001b[0;31mNameError\u001b[0m: name 'll_star0' is not defined"
     ]
    }
   ],
   "source": [
    "ll_star0"
   ]
  },
  {
   "cell_type": "code",
   "execution_count": 36,
   "id": "9e01ab55",
   "metadata": {},
   "outputs": [
    {
     "data": {
      "text/plain": [
       "[{'delt_d': {'mu': array([ 0.73887897,  0.04406452, -0.66592225]),\n",
       "   'log_sig': array([-0.7831662 , -1.45438091, -0.88476496])},\n",
       "  'e_dive': {'logit_p': array([-100.        , -100.        ,   -2.03573142])}},\n",
       " {'delt_d': {'mu': array([ 2.80233859,  0.03698333, -2.530211  ]),\n",
       "   'log_sig': array([ 0.63486415, -0.4167749 ,  0.47744247])},\n",
       "  'e_dive': {'logit_p': array([-100.        , -100.        ,   -3.20363884])}},\n",
       " {'delt_d': {'mu': array([ 0.36034692,  0.0237998 , -0.42821934]),\n",
       "   'log_sig': array([-1.85396414, -1.85810687, -1.53378368])},\n",
       "  'e_dive': {'logit_p': array([-1.00000000e+02, -1.00000000e+02, -9.64694089e-02])}}]"
      ]
     },
     "execution_count": 36,
     "metadata": {},
     "output_type": "execute_result"
    }
   ],
   "source": [
    "optims[(\"BFGS\",0)].theta"
   ]
  },
  {
   "cell_type": "code",
   "execution_count": 38,
   "id": "2c3aab4e",
   "metadata": {},
   "outputs": [
    {
     "data": {
      "text/plain": [
       "[{'delt_d': {'mu': array([ 0.72041742,  0.04122327, -0.67129787]),\n",
       "   'log_sig': array([-0.80116598, -1.46474505, -0.90030069])},\n",
       "  'e_dive': {'logit_p': array([-100.        , -100.        ,   -2.00351876])}},\n",
       " {'delt_d': {'mu': array([ 0.35893692,  0.02363945, -0.42703027]),\n",
       "   'log_sig': array([-1.85835912, -1.86126412, -1.5376909 ])},\n",
       "  'e_dive': {'logit_p': array([-1.00000000e+02, -1.00000000e+02, -9.60360701e-02])}},\n",
       " {'delt_d': {'mu': array([ 2.46699457e+00,  1.06731446e-03, -2.30538438e+00]),\n",
       "   'log_sig': array([ 0.66119075, -0.63535453,  0.53784326])},\n",
       "  'e_dive': {'logit_p': array([-100.        , -100.        ,   -3.25737573])}}]"
      ]
     },
     "execution_count": 38,
     "metadata": {},
     "output_type": "execute_result"
    }
   ],
   "source": [
    "optims[(\"SVRG\",0.0)].theta"
   ]
  },
  {
   "cell_type": "code",
   "execution_count": null,
   "id": "d543b499",
   "metadata": {},
   "outputs": [],
   "source": []
  }
 ],
 "metadata": {
  "kernelspec": {
   "display_name": "Python 3 (ipykernel)",
   "language": "python",
   "name": "python3"
  },
  "language_info": {
   "codemirror_mode": {
    "name": "ipython",
    "version": 3
   },
   "file_extension": ".py",
   "mimetype": "text/x-python",
   "name": "python",
   "nbconvert_exporter": "python",
   "pygments_lexer": "ipython3",
   "version": "3.9.12"
  }
 },
 "nbformat": 4,
 "nbformat_minor": 5
}
