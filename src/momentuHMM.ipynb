{
 "cells": [
  {
   "cell_type": "code",
   "execution_count": null,
   "id": "infectious-cycling",
   "metadata": {},
   "outputs": [],
   "source": [
    "library(momentuHMM)\n",
    "library(data.table)"
   ]
  },
  {
   "cell_type": "code",
   "execution_count": null,
   "id": "superb-scheduling",
   "metadata": {},
   "outputs": [],
   "source": [
    "Data <- data.frame(fread('../dat/Data.csv'))\n",
    "colnames(Data) <- c(\"Y\")\n",
    "Data <- prepData(Data,coordNames=NULL)"
   ]
  },
  {
   "cell_type": "code",
   "execution_count": null,
   "id": "aggregate-rally",
   "metadata": {},
   "outputs": [],
   "source": [
    "# number of states\n",
    "N <- 3\n",
    "\n",
    "# distributions\n",
    "dist <- list(Y = \"norm\")\n",
    "\n",
    "# initial parameters\n",
    "Par0 <- list(Y = c(-1.0, # mean 1\n",
    "                    1.1, # mean 2\n",
    "                    2.1, # mean 3\n",
    "                    1.0, # std 1\n",
    "                    1.0, # std 2\n",
    "                    1.0)) # std 3\n",
    "\n",
    "Data\n",
    "\n",
    "# fit HMM\n",
    "hhmm <- fitHMM(Data,\n",
    "               nbStates = N,\n",
    "               dist     = dist,\n",
    "               Par0     = Par0,\n",
    "               nlmPar   = list('print.level'=2))"
   ]
  },
  {
   "cell_type": "code",
   "execution_count": null,
   "id": "utility-watts",
   "metadata": {},
   "outputs": [],
   "source": []
  }
 ],
 "metadata": {
  "kernelspec": {
   "display_name": "R",
   "language": "R",
   "name": "ir"
  },
  "language_info": {
   "codemirror_mode": "r",
   "file_extension": ".r",
   "mimetype": "text/x-r-source",
   "name": "R",
   "pygments_lexer": "r",
   "version": "4.1.3"
  }
 },
 "nbformat": 4,
 "nbformat_minor": 5
}
