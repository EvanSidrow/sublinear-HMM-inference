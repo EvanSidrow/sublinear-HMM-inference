{
 "cells": [
  {
   "cell_type": "code",
   "execution_count": 1,
   "id": "national-juice",
   "metadata": {},
   "outputs": [],
   "source": [
    "import sys\n",
    "sys.path.insert(0,'/Users/evsi8432/Documents/Research/CarHHMM-DFT/Repository/Code')\n",
    "\n",
    "import pandas as pd\n",
    "import numpy as np\n",
    "import matplotlib.pyplot as plt\n",
    "import matplotlib.cm as cm\n",
    "\n",
    "from scipy.stats import gamma\n",
    "from scipy.stats import norm\n",
    "from scipy.stats import vonmises\n",
    "from scipy.stats import multivariate_normal\n",
    "from scipy.stats import gaussian_kde\n",
    "from scipy.stats import circstd\n",
    "from scipy.special import iv\n",
    "from scipy.special import expit\n",
    "from scipy.special import logit\n",
    "from scipy.special import logsumexp\n",
    "from scipy.optimize import minimize\n",
    "from scipy.optimize import minimize_scalar\n",
    "from scipy.optimize import LinearConstraint\n",
    "from scipy.signal import convolve\n",
    "from scipy.interpolate import interp1d\n",
    "\n",
    "from copy import deepcopy\n",
    "\n",
    "import time\n",
    "import pickle"
   ]
  },
  {
   "cell_type": "code",
   "execution_count": 2,
   "id": "acute-library",
   "metadata": {},
   "outputs": [],
   "source": [
    "import Preprocessor\n",
    "import Parameters\n",
    "import HHMM\n",
    "import Visualisor\n",
    "import optimizor"
   ]
  },
  {
   "cell_type": "markdown",
   "id": "freelance-ballot",
   "metadata": {},
   "source": [
    "# Initialize Parameters"
   ]
  },
  {
   "cell_type": "code",
   "execution_count": null,
   "id": "egyptian-address",
   "metadata": {},
   "outputs": [],
   "source": [
    "# make a para\n",
    "pars = Parameters.Parameters()\n",
    "pars.features = [{'Y':{'corr':False,'f':'normal'}}, # coarse-scale\n",
    "                 {}]\n",
    "pars.K = [3,1]\n",
    "T = 10"
   ]
  },
  {
   "cell_type": "markdown",
   "id": "coated-content",
   "metadata": {},
   "source": [
    "# Simulate Data"
   ]
  },
  {
   "cell_type": "code",
   "execution_count": null,
   "id": "adult-white",
   "metadata": {},
   "outputs": [],
   "source": [
    "N = 3\n",
    "X = np.zeros(T,dtype=int)\n",
    "data = []\n",
    "\n",
    "# define parameters\n",
    "Gamma = np.array([[0.5,0.25,0.25],\n",
    "                  [0.25,0.5,0.25],\n",
    "                  [0.25,0.25,0.5]])\n",
    "delta = np.ones(pars.K[0])/pars.K[0]\n",
    "\n",
    "mus = [-1,0,1]\n",
    "sigs = [0.1,0.1,0.1]\n",
    "\n",
    "for t in range(T):\n",
    "    \n",
    "    if t == 0:\n",
    "        X[t] = np.random.choice(pars.K[0],p=delta)\n",
    "    else:\n",
    "        X[t] = np.random.choice(pars.K[0],p=Gamma[X[t-1]])\n",
    "\n",
    "    data.append({'Y':mus[X[t]] + sigs[X[t]]*np.random.normal(),\n",
    "                 'subdive_features':[]})"
   ]
  },
  {
   "cell_type": "code",
   "execution_count": null,
   "id": "incorporated-climate",
   "metadata": {},
   "outputs": [],
   "source": [
    "plt.plot(X)\n",
    "plt.show()\n",
    "plt.plot([x[\"Y\"] for x in data],'.')\n",
    "plt.show()"
   ]
  },
  {
   "cell_type": "markdown",
   "id": "digital-strategy",
   "metadata": {},
   "source": [
    "# Initialize optimizor and select intial values"
   ]
  },
  {
   "cell_type": "code",
   "execution_count": null,
   "id": "false-finish",
   "metadata": {},
   "outputs": [],
   "source": [
    "# initialize objects\n",
    "hhmm = HHMM.HHMM(pars,data)\n",
    "optim1 = optimizor.optimizor(hhmm)\n",
    "optim2 = optimizor.optimizor(hhmm)\n",
    "\n",
    "# set theta and eta to true values\n",
    "optim1.theta = [{'Y': {'mu': np.array([-1.0,  0.0,  1.0]),\n",
    "                'sig': np.array([0.1, 0.1, 0.1]),\n",
    "                'corr': np.array([0.0, 0.0, 0.0])}},\n",
    "               [{}, {}, {}]]\n",
    "\n",
    "optim1.Gamma = [np.array([[0.50, 0.25, 0.25],\n",
    "                         [0.25, 0.50, 0.25],\n",
    "                         [0.25, 0.25, 0.50]]),\n",
    "               [np.array([[1.]]), np.array([[1.]]), np.array([[1.]])]]\n",
    "\n",
    "optim1.eta = Gamma_2_eta(optim.Gamma)\n",
    "\n",
    "optim1.step_size = 1e-7\n",
    "optim1.param_bounds[\"mu\"] = [-2,2]\n",
    "optim1.param_bounds[\"sig\"] = [0.01,1.0]\n",
    "\n",
    "# set theta and eta to true values\n",
    "optim2.theta = [{'Y': {'mu': np.array([-1.0,  0.0,  1.0]),\n",
    "                'sig': np.array([0.1, 0.1, 0.1]),\n",
    "                'corr': np.array([0.0, 0.0, 0.0])}},\n",
    "               [{}, {}, {}]]\n",
    "\n",
    "optim2.Gamma = [np.array([[0.50, 0.25, 0.25],\n",
    "                         [0.25, 0.50, 0.25],\n",
    "                         [0.25, 0.25, 0.50]]),\n",
    "               [np.array([[1.]]), np.array([[1.]]), np.array([[1.]])]]\n",
    "\n",
    "optim2.eta = Gamma_2_eta(optim.Gamma)\n",
    "\n",
    "optim2.step_size = 1e-7\n",
    "optim2.param_bounds[\"mu\"] = [-2,2]\n",
    "optim2.param_bounds[\"sig\"] = [0.01,1.0]\n",
    "\n",
    "# print values\n",
    "print(optim1.theta)\n",
    "print(optim1.eta)\n",
    "print(optim1.param_bounds)"
   ]
  },
  {
   "cell_type": "markdown",
   "id": "informal-japan",
   "metadata": {},
   "source": [
    "# Train the HMM"
   ]
  },
  {
   "cell_type": "code",
   "execution_count": 520,
   "id": "moved-jewelry",
   "metadata": {
    "scrolled": true
   },
   "outputs": [
    {
     "name": "stdout",
     "output_type": "stream",
     "text": [
      "epoch num:  1\n",
      "log-likelihood:  -4.164242215717137\n",
      "alpha:  1e-07\n",
      "\n",
      "epoch num:  2\n",
      "log-likelihood:  -7.493280331738518\n",
      "alpha:  7.071067811865474e-08\n",
      "\n",
      "epoch num:  3\n",
      "log-likelihood:  -7.493278583572558\n",
      "alpha:  5.773502691896258e-08\n",
      "\n",
      "epoch num:  4\n",
      "log-likelihood:  -7.493277156212686\n",
      "alpha:  5e-08\n",
      "\n",
      "epoch num:  5\n",
      "log-likelihood:  -7.493275920091127\n",
      "alpha:  4.472135954999579e-08\n",
      "\n",
      "epoch num:  6\n",
      "log-likelihood:  -7.493274814476912\n",
      "alpha:  4.08248290463863e-08\n",
      "\n",
      "epoch num:  7\n",
      "log-likelihood:  -7.493273805199178\n",
      "alpha:  3.779644730092272e-08\n",
      "\n",
      "epoch num:  8\n",
      "log-likelihood:  -7.493272870794098\n",
      "alpha:  3.535533905932737e-08\n",
      "\n",
      "epoch num:  9\n",
      "log-likelihood:  -7.493271996742117\n",
      "alpha:  3.3333333333333334e-08\n",
      "\n",
      "epoch num:  10\n",
      "log-likelihood:  -7.49327117268148\n",
      "alpha:  3.162277660168379e-08\n",
      "\n",
      "epoch num:  11\n",
      "log-likelihood:  -7.493270390912033\n",
      "alpha:  3.015113445777636e-08\n",
      "\n",
      "epoch num:  12\n",
      "log-likelihood:  -7.493269645526934\n",
      "alpha:  2.886751345948129e-08\n",
      "\n",
      "epoch num:  13\n",
      "log-likelihood:  -7.4932689318776085\n",
      "alpha:  2.7735009811261455e-08\n",
      "\n",
      "epoch num:  14\n",
      "log-likelihood:  -7.49326824622789\n",
      "alpha:  2.6726124191242437e-08\n",
      "\n",
      "epoch num:  15\n",
      "log-likelihood:  -7.493267585521488\n",
      "alpha:  2.581988897471611e-08\n",
      "\n",
      "epoch num:  16\n",
      "log-likelihood:  -7.49326694722051\n",
      "alpha:  2.5e-08\n",
      "\n",
      "epoch num:  17\n",
      "log-likelihood:  -7.493266329190158\n",
      "alpha:  2.4253562503633296e-08\n",
      "\n",
      "epoch num:  18\n",
      "log-likelihood:  -7.493265729614448\n",
      "alpha:  2.3570226039551586e-08\n",
      "\n",
      "epoch num:  19\n",
      "log-likelihood:  -7.4932651469332985\n",
      "alpha:  2.2941573387056173e-08\n",
      "\n",
      "epoch num:  20\n",
      "log-likelihood:  -7.493264579794717\n",
      "alpha:  2.2360679774997895e-08\n",
      "\n",
      "epoch num:  21\n",
      "log-likelihood:  -7.49326402701793\n",
      "alpha:  2.182178902359924e-08\n",
      "\n",
      "epoch num:  22\n",
      "log-likelihood:  -7.493263487564477\n",
      "alpha:  2.1320071635561042e-08\n",
      "\n",
      "epoch num:  23\n",
      "log-likelihood:  -7.493262960515296\n",
      "alpha:  2.0851441405707478e-08\n",
      "\n",
      "epoch num:  24\n",
      "log-likelihood:  -7.49326244505235\n",
      "alpha:  2.041241452319315e-08\n",
      "\n",
      "epoch num:  25\n",
      "log-likelihood:  -7.493261940443735\n",
      "alpha:  2e-08\n",
      "\n",
      "epoch num:  26\n",
      "log-likelihood:  -7.493261446031503\n",
      "alpha:  1.9611613513818404e-08\n",
      "\n",
      "epoch num:  27\n",
      "log-likelihood:  -7.493260961221593\n",
      "alpha:  1.9245008972987525e-08\n",
      "\n",
      "epoch num:  28\n",
      "log-likelihood:  -7.493260485475468\n",
      "alpha:  1.889822365046136e-08\n",
      "\n",
      "epoch num:  29\n",
      "log-likelihood:  -7.493260018303135\n",
      "alpha:  1.8569533817705186e-08\n",
      "\n",
      "epoch num:  30\n",
      "log-likelihood:  -7.4932595592572016\n",
      "alpha:  1.8257418583505536e-08\n",
      "\n",
      "epoch num:  31\n",
      "log-likelihood:  -7.493259107927888\n",
      "alpha:  1.796053020267749e-08\n",
      "\n",
      "epoch num:  32\n",
      "log-likelihood:  -7.493258663938728\n",
      "alpha:  1.7677669529663686e-08\n",
      "\n",
      "epoch num:  33\n",
      "log-likelihood:  -7.493258226942905\n",
      "alpha:  1.7407765595569784e-08\n",
      "\n",
      "epoch num:  34\n",
      "log-likelihood:  -7.493257796620085\n",
      "alpha:  1.7149858514250884e-08\n",
      "\n",
      "epoch num:  35\n",
      "log-likelihood:  -7.493257372673659\n",
      "alpha:  1.6903085094570332e-08\n",
      "\n",
      "epoch num:  36\n",
      "log-likelihood:  -7.493256954828363\n",
      "alpha:  1.6666666666666667e-08\n",
      "\n",
      "epoch num:  37\n",
      "log-likelihood:  -7.49325654282819\n",
      "alpha:  1.643989873053573e-08\n",
      "\n",
      "epoch num:  38\n",
      "log-likelihood:  -7.4932561364345345\n",
      "alpha:  1.6222142113076255e-08\n",
      "\n",
      "epoch num:  39\n",
      "log-likelihood:  -7.4932557354246105\n",
      "alpha:  1.6012815380508713e-08\n",
      "\n",
      "epoch num:  40\n",
      "log-likelihood:  -7.493255339590003\n",
      "alpha:  1.5811388300841896e-08\n",
      "\n",
      "epoch num:  41\n",
      "log-likelihood:  -7.493254948735398\n",
      "alpha:  1.5617376188860608e-08\n",
      "\n",
      "epoch num:  42\n",
      "log-likelihood:  -7.493254562677476\n",
      "alpha:  1.543033499620919e-08\n",
      "\n",
      "epoch num:  43\n",
      "log-likelihood:  -7.493254181243885\n",
      "alpha:  1.5249857033260468e-08\n",
      "\n",
      "epoch num:  44\n",
      "log-likelihood:  -7.49325380427236\n",
      "alpha:  1.507556722888818e-08\n",
      "\n",
      "epoch num:  45\n",
      "log-likelihood:  -7.493253431609909\n",
      "alpha:  1.4907119849998596e-08\n",
      "\n",
      "epoch num:  46\n",
      "log-likelihood:  -7.493253063112087\n",
      "alpha:  1.4744195615489712e-08\n",
      "\n",
      "epoch num:  47\n",
      "log-likelihood:  -7.49325269864234\n",
      "alpha:  1.4586499149789455e-08\n",
      "\n",
      "epoch num:  48\n",
      "log-likelihood:  -7.49325233807142\n",
      "alpha:  1.4433756729740644e-08\n",
      "\n",
      "epoch num:  49\n",
      "log-likelihood:  -7.493251981276846\n",
      "alpha:  1.4285714285714284e-08\n",
      "\n",
      "epoch num:  50\n",
      "log-likelihood:  -7.49325162814241\n",
      "alpha:  1.4142135623730949e-08\n",
      "\n",
      "epoch num:  51\n",
      "log-likelihood:  -7.4932512785577625\n",
      "alpha:  1.4002800840280097e-08\n",
      "\n",
      "epoch num:  52\n",
      "log-likelihood:  -7.493250932417972\n",
      "alpha:  1.3867504905630727e-08\n",
      "\n",
      "epoch num:  53\n",
      "log-likelihood:  -7.493250589623185\n",
      "alpha:  1.3736056394868902e-08\n",
      "\n",
      "epoch num:  54\n",
      "log-likelihood:  -7.493250250078278\n",
      "alpha:  1.3608276348795433e-08\n",
      "\n",
      "epoch num:  55\n",
      "log-likelihood:  -7.493249913692558\n",
      "alpha:  1.3483997249264842e-08\n",
      "\n",
      "epoch num:  56\n",
      "log-likelihood:  -7.493249580379462\n",
      "alpha:  1.3363062095621219e-08\n",
      "\n",
      "epoch num:  57\n",
      "log-likelihood:  -7.493249250056323\n",
      "alpha:  1.3245323570650437e-08\n",
      "\n",
      "epoch num:  58\n",
      "log-likelihood:  -7.493248922644104\n",
      "alpha:  1.3130643285972255e-08\n",
      "\n",
      "epoch num:  59\n",
      "log-likelihood:  -7.4932485980671935\n",
      "alpha:  1.3018891098082388e-08\n",
      "\n",
      "epoch num:  60\n",
      "log-likelihood:  -7.4932482762532056\n",
      "alpha:  1.2909944487358055e-08\n",
      "\n",
      "epoch num:  61\n",
      "log-likelihood:  -7.493247957132764\n",
      "alpha:  1.2803687993289598e-08\n",
      "\n",
      "epoch num:  62\n",
      "log-likelihood:  -7.493247640639372\n",
      "alpha:  1.2700012700019049e-08\n",
      "\n",
      "epoch num:  63\n",
      "log-likelihood:  -7.493247326709206\n",
      "alpha:  1.259881576697424e-08\n",
      "\n",
      "epoch num:  64\n",
      "log-likelihood:  -7.493247015280992\n",
      "alpha:  1.25e-08\n",
      "\n",
      "epoch num:  65\n",
      "log-likelihood:  -7.493246706295861\n",
      "alpha:  1.2403473458920847e-08\n",
      "\n",
      "epoch num:  66\n",
      "log-likelihood:  -7.493246399697215\n",
      "alpha:  1.2309149097933272e-08\n",
      "\n",
      "epoch num:  67\n",
      "log-likelihood:  -7.493246095430607\n",
      "alpha:  1.2216944435630522e-08\n",
      "\n",
      "epoch num:  68\n",
      "log-likelihood:  -7.493245793443627\n",
      "alpha:  1.2126781251816648e-08\n",
      "\n",
      "epoch num:  69\n",
      "log-likelihood:  -7.493245493685813\n",
      "alpha:  1.203858530857692e-08\n",
      "\n",
      "epoch num:  70\n",
      "log-likelihood:  -7.493245196108518\n",
      "alpha:  1.1952286093343936e-08\n",
      "\n",
      "epoch num:  71\n",
      "log-likelihood:  -7.493244900664853\n",
      "alpha:  1.1867816581938531e-08\n",
      "\n",
      "epoch num:  72\n",
      "log-likelihood:  -7.493244607309574\n",
      "alpha:  1.1785113019775793e-08\n",
      "\n",
      "epoch num:  73\n",
      "log-likelihood:  -7.493244315999028\n",
      "alpha:  1.1704114719613056e-08\n",
      "\n",
      "epoch num:  74\n",
      "log-likelihood:  -7.493244026691053\n",
      "alpha:  1.1624763874381928e-08\n",
      "\n",
      "epoch num:  75\n",
      "log-likelihood:  -7.493243739344915\n",
      "alpha:  1.1547005383792513e-08\n",
      "\n",
      "epoch num:  76\n",
      "log-likelihood:  -7.493243453921246\n",
      "alpha:  1.1470786693528086e-08\n",
      "\n",
      "epoch num:  77\n",
      "log-likelihood:  -7.49324317038198\n",
      "alpha:  1.1396057645963793e-08\n",
      "\n",
      "epoch num:  78\n",
      "log-likelihood:  -7.493242888690286\n",
      "alpha:  1.1322770341445955e-08\n",
      "\n",
      "epoch num:  79\n",
      "log-likelihood:  -7.49324260881052\n",
      "alpha:  1.125087900926024e-08\n",
      "\n",
      "epoch num:  80\n",
      "log-likelihood:  -7.493242330708165\n",
      "alpha:  1.1180339887498947e-08\n",
      "\n",
      "epoch num:  81\n",
      "log-likelihood:  -7.49324205434979\n",
      "alpha:  1.111111111111111e-08\n",
      "\n",
      "epoch num:  82\n",
      "log-likelihood:  -7.493241779703001\n",
      "alpha:  1.1043152607484653e-08\n",
      "\n",
      "epoch num:  83\n",
      "log-likelihood:  -7.493241506736392\n",
      "alpha:  1.0976425998969034e-08\n",
      "\n",
      "epoch num:  84\n",
      "log-likelihood:  -7.493241235419505\n",
      "alpha:  1.091089451179962e-08\n",
      "\n",
      "epoch num:  85\n",
      "log-likelihood:  -7.4932409657227925\n",
      "alpha:  1.0846522890932808e-08\n",
      "\n",
      "epoch num:  86\n",
      "log-likelihood:  -7.493240697617578\n",
      "alpha:  1.0783277320343841e-08\n",
      "\n",
      "epoch num:  87\n",
      "log-likelihood:  -7.493240431076023\n",
      "alpha:  1.0721125348377947e-08\n",
      "\n",
      "epoch num:  88\n",
      "log-likelihood:  -7.493240166071087\n",
      "alpha:  1.0660035817780521e-08\n",
      "\n",
      "epoch num:  89\n",
      "log-likelihood:  -7.493239902576506\n",
      "alpha:  1.05999788000636e-08\n",
      "\n",
      "epoch num:  90\n",
      "log-likelihood:  -7.493239640566751\n",
      "alpha:  1.0540925533894597e-08\n",
      "\n",
      "epoch num:  91\n",
      "log-likelihood:  -7.493239380017006\n",
      "alpha:  1.0482848367219183e-08\n",
      "\n",
      "epoch num:  92\n",
      "log-likelihood:  -7.493239120903135\n",
      "alpha:  1.0425720702853739e-08\n",
      "\n",
      "epoch num:  93\n",
      "log-likelihood:  -7.493238863201669\n",
      "alpha:  1.0369516947304252e-08\n",
      "\n",
      "epoch num:  94\n",
      "log-likelihood:  -7.493238606889761\n",
      "alpha:  1.0314212462587933e-08\n",
      "\n",
      "epoch num:  95\n",
      "log-likelihood:  -7.493238351945178\n",
      "alpha:  1.0259783520851542e-08\n",
      "\n",
      "epoch num:  96\n",
      "log-likelihood:  -7.493238098346277\n",
      "alpha:  1.0206207261596575e-08\n",
      "\n",
      "epoch num:  97\n",
      "log-likelihood:  -7.493237846071972\n",
      "alpha:  1.015346165133619e-08\n",
      "\n",
      "epoch num:  98\n",
      "log-likelihood:  -7.49323759510173\n",
      "alpha:  1.0101525445522108e-08\n",
      "\n",
      "epoch num:  99\n",
      "log-likelihood:  -7.4932373454155385\n",
      "alpha:  1.005037815259212e-08\n",
      "\n",
      "epoch num:  100\n",
      "log-likelihood:  -7.493237096993894\n",
      "alpha:  1e-08\n",
      "\n"
     ]
    }
   ],
   "source": [
    "# do first optimization\n",
    "num_epochs = 100\n",
    "optim1.step_num = 1\n",
    "optim1.train_HHMM(num_epochs,decay_ind=1)\n",
    "\n",
    "# do second optimization\n",
    "#num_epochs = 100\n",
    "#optim2.step_num = 1\n",
    "#optim2.train_HHMM(num_epochs,h=10,decay_ind=1)"
   ]
  },
  {
   "cell_type": "code",
   "execution_count": 521,
   "id": "continued-warning",
   "metadata": {},
   "outputs": [
    {
     "data": {
      "image/png": "[encoded data removed]",
      "text/plain": [
       "<Figure size 432x288 with 1 Axes>"
      ]
     },
     "metadata": {
      "needs_background": "light"
     },
     "output_type": "display_data"
    },
    {
     "data": {
      "image/png": "[encoded data removed]",
      "text/plain": [
       "<Figure size 432x288 with 1 Axes>"
      ]
     },
     "metadata": {
      "needs_background": "light"
     },
     "output_type": "display_data"
    },
    {
     "data": {
      "image/png": "[encoded data removed]",
      "text/plain": [
       "<Figure size 432x288 with 1 Axes>"
      ]
     },
     "metadata": {
      "needs_background": "light"
     },
     "output_type": "display_data"
    },
    {
     "data": {
      "image/png": "[encoded data removed]",
      "text/plain": [
       "<Figure size 432x288 with 1 Axes>"
      ]
     },
     "metadata": {
      "needs_background": "light"
     },
     "output_type": "display_data"
    },
    {
     "data": {
      "image/png": "[encoded data removed]",
      "text/plain": [
       "<Figure size 432x288 with 1 Axes>"
      ]
     },
     "metadata": {
      "needs_background": "light"
     },
     "output_type": "display_data"
    },
    {
     "data": {
      "image/png": "[encoded data removed]",
      "text/plain": [
       "<Figure size 432x288 with 1 Axes>"
      ]
     },
     "metadata": {
      "needs_background": "light"
     },
     "output_type": "display_data"
    },
    {
     "data": {
      "image/png": "[encoded data removed]",
      "text/plain": [
       "<Figure size 432x288 with 1 Axes>"
      ]
     },
     "metadata": {
      "needs_background": "light"
     },
     "output_type": "display_data"
    },
    {
     "data": {
      "image/png": "[encoded data removed]",
      "text/plain": [
       "<Figure size 432x288 with 1 Axes>"
      ]
     },
     "metadata": {
      "needs_background": "light"
     },
     "output_type": "display_data"
    },
    {
     "data": {
      "image/png": "[encoded data removed]",
      "text/plain": [
       "<Figure size 432x288 with 1 Axes>"
      ]
     },
     "metadata": {
      "needs_background": "light"
     },
     "output_type": "display_data"
    },
    {
     "data": {
      "image/png": "[encoded data removed]",
      "text/plain": [
       "<Figure size 432x288 with 1 Axes>"
      ]
     },
     "metadata": {
      "needs_background": "light"
     },
     "output_type": "display_data"
    }
   ],
   "source": [
    "def plot_results(optim):\n",
    "    plt.plot(optim.log_like_trace)\n",
    "    plt.title(\"Log-likelihood v iteration number\")\n",
    "    plt.show()\n",
    "\n",
    "    plt.plot([optim.theta_trace[i][0]['Y']['sig'][0] for i in range(len(optim.theta_trace))])\n",
    "    plt.plot([optim.theta_trace[i][0]['Y']['sig'][1] for i in range(len(optim.theta_trace))])\n",
    "    plt.plot([optim.theta_trace[i][0]['Y']['sig'][2] for i in range(len(optim.theta_trace))])\n",
    "    plt.axhline(optim.param_bounds['Y']['sig'][0], c = 'k', linestyle = \"--\")\n",
    "    plt.axhline(optim.param_bounds['Y']['sig'][1], c = 'k', linestyle = \"--\")\n",
    "    plt.title(\"Standard Deviations v iteration number\")\n",
    "    plt.show()\n",
    "\n",
    "    plt.plot([optim.theta_trace[i][0]['Y']['mu'][0] for i in range(len(optim.theta_trace))])\n",
    "    plt.plot([optim.theta_trace[i][0]['Y']['mu'][1] for i in range(len(optim.theta_trace))])\n",
    "    plt.plot([optim.theta_trace[i][0]['Y']['mu'][2] for i in range(len(optim.theta_trace))])\n",
    "    plt.title(\"Means v iteration number\")\n",
    "    plt.axhline(optim.param_bounds['Y']['mu'][0], c = 'k', linestyle = \"--\")\n",
    "    plt.axhline(optim.param_bounds['Y']['mu'][1], c = 'k', linestyle = \"--\")\n",
    "    plt.show()\n",
    "\n",
    "    plt.plot([optim.grad_theta_trace[i][0]['Y']['sig'][0] for i in range(len(optim.theta_trace))])\n",
    "    plt.plot([optim.grad_theta_trace[i][0]['Y']['sig'][1] for i in range(len(optim.theta_trace))])\n",
    "    plt.plot([optim.grad_theta_trace[i][0]['Y']['sig'][2] for i in range(len(optim.theta_trace))])\n",
    "    plt.title(\"Gradients of Standard Deviations v iteration number\")\n",
    "    plt.show()\n",
    "\n",
    "    plt.plot([optim.grad_theta_trace[i][0]['Y']['mu'][0] for i in range(len(optim.theta_trace))])\n",
    "    plt.plot([optim.grad_theta_trace[i][0]['Y']['mu'][1] for i in range(len(optim.theta_trace))])\n",
    "    plt.plot([optim.grad_theta_trace[i][0]['Y']['mu'][2] for i in range(len(optim.theta_trace))])\n",
    "    plt.title(\"Gradients of Means v iteration number\")\n",
    "    plt.show()\n",
    "    \n",
    "plot_results(optim1)\n",
    "plot_results(optim2)"
   ]
  },
  {
   "cell_type": "code",
   "execution_count": 516,
   "id": "worse-consequence",
   "metadata": {},
   "outputs": [
    {
     "data": {
      "text/plain": [
       "[{'Y': {'mu': array([-9.99761273e-01, -8.83978836e-04,  1.00032718e+00]),\n",
       "   'sig': array([0.23416417, 0.23416417, 0.23416417]),\n",
       "   'corr': array([0., 0., 0.])}},\n",
       " [{}, {}, {}]]"
      ]
     },
     "execution_count": 516,
     "metadata": {},
     "output_type": "execute_result"
    }
   ],
   "source": [
    "optim1.theta"
   ]
  },
  {
   "cell_type": "markdown",
   "id": "unavailable-champagne",
   "metadata": {},
   "source": [
    "# Make sure that the likelihoods agree"
   ]
  },
  {
   "cell_type": "code",
   "execution_count": 468,
   "id": "nominated-alexander",
   "metadata": {},
   "outputs": [
    {
     "name": "stdout",
     "output_type": "stream",
     "text": [
      "-1864.4214856148417\n",
      "\n"
     ]
    },
    {
     "data": {
      "image/png": "[encoded data removed]",
      "text/plain": [
       "<Figure size 432x288 with 1 Axes>"
      ]
     },
     "metadata": {
      "needs_background": "light"
     },
     "output_type": "display_data"
    }
   ],
   "source": [
    "# using hhmm\n",
    "print(hhmm.likelihood(data))\n",
    "print(\"\")\n",
    "# do a forward pass and backwards pass\n",
    "optim.fwd_pass(data)\n",
    "optim.bwd_pass(data)\n",
    "\n",
    "# print likelihood of evaluated at each time point\n",
    "lls = [optim.log_likelihood(t) for t in range(optim.T)]\n",
    "plt.plot(lls,\"r--\")\n",
    "plt.axhline(hhmm.likelihood(data))\n",
    "plt.legend([\"Optimizor log-likelihood\",\"HHMM log-likelihood\"])\n",
    "plt.xlabel(\"Time index (Optimizor only)\")\n",
    "plt.ylabel(\"Log Likelihood\")\n",
    "plt.show()"
   ]
  },
  {
   "cell_type": "markdown",
   "id": "baking-induction",
   "metadata": {},
   "source": [
    "# Test that the gradients wrt $\\theta$ agree"
   ]
  },
  {
   "cell_type": "code",
   "execution_count": 22,
   "id": "yellow-seeking",
   "metadata": {},
   "outputs": [
    {
     "data": {
      "text/plain": [
       "[<matplotlib.lines.Line2D at 0x7f817b329b10>]"
      ]
     },
     "execution_count": 22,
     "metadata": {},
     "output_type": "execute_result"
    },
    {
     "data": {
      "image/png": "[encoded data removed]",
      "text/plain": [
       "<Figure size 432x288 with 1 Axes>"
      ]
     },
     "metadata": {
      "needs_background": "light"
     },
     "output_type": "display_data"
    }
   ],
   "source": [
    "# test gradient of mu_Y for state 0 using my hand-code (this is mu2)\n",
    "optim.fwd_pass(data)\n",
    "optim.bwd_pass(data)\n",
    "\n",
    "autograds = np.zeros(optim.T)\n",
    "finite_diffs = np.zeros(optim.T)\n",
    "\n",
    "for t in range(optim.T):\n",
    "\n",
    "    optim.grad_log_likelihood(t)\n",
    "    autograds[t] = optim.d_log_like_d_theta[t][0][\"Y\"][\"mu\"][2]\n",
    "\n",
    "    # test finte differences - optim\n",
    "    eps = 0.0001\n",
    "    \n",
    "    # record current likelihood\n",
    "    y1 = np.copy(optim.log_likelihood(t))\n",
    "    \n",
    "    # adjust parameters and record result\n",
    "    optim.theta[0]['Y']['mu'][2] += eps\n",
    "    optim.fwd_pass(data)\n",
    "    optim.bwd_pass(data)\n",
    "    y2 = np.copy(optim.log_likelihood(t))\n",
    "\n",
    "    # record the finite difference\n",
    "    finite_diffs[t] = (y2-y1)/eps\n",
    "\n",
    "    # change the parameters back\n",
    "    optim.theta[0]['Y']['mu'][2] += -eps\n",
    "    optim.fwd_pass(data)\n",
    "    optim.bwd_pass(data)\n",
    "    \n",
    "plt.plot(autograds)\n",
    "plt.plot(finite_diffs)"
   ]
  },
  {
   "cell_type": "markdown",
   "id": "furnished-absorption",
   "metadata": {},
   "source": [
    "# Test that the gradients wrt $\\eta$ agree"
   ]
  },
  {
   "cell_type": "code",
   "execution_count": 23,
   "id": "athletic-assist",
   "metadata": {},
   "outputs": [
    {
     "name": "stdout",
     "output_type": "stream",
     "text": [
      "[-0.08564983 -0.08564983 -0.08564983 -0.08564983 -0.08564983 -0.08564983\n",
      " -0.08564983 -0.08564983 -0.08564983 -0.08564983]\n",
      "[-0.08565361 -0.08565361 -0.08565361 -0.08565361 -0.08565361 -0.08565361\n",
      " -0.08565361 -0.08565361 -0.08565361 -0.08565361]\n"
     ]
    },
    {
     "data": {
      "text/plain": [
       "[<matplotlib.lines.Line2D at 0x7f817b3d1ad0>]"
      ]
     },
     "execution_count": 23,
     "metadata": {},
     "output_type": "execute_result"
    },
    {
     "data": {
      "image/png": "[encoded data removed]",
      "text/plain": [
       "<Figure size 432x288 with 1 Axes>"
      ]
     },
     "metadata": {
      "needs_background": "light"
     },
     "output_type": "display_data"
    }
   ],
   "source": [
    "# test gradient of mu_Y for state 0 using my hand-code (this is mu2)\n",
    "optim.fwd_pass(data)\n",
    "optim.bwd_pass(data)\n",
    "\n",
    "autograds = np.zeros(optim.T)\n",
    "finite_diffs = np.zeros(optim.T)\n",
    "\n",
    "for t in range(optim.T):\n",
    "\n",
    "    optim.grad_log_likelihood(t)\n",
    "    autograds[t] = optim.d_log_like_d_eta[t][0,1]\n",
    "\n",
    "    # test finte differences - optim\n",
    "    eps = 0.0001\n",
    "    \n",
    "    # record current likelihood\n",
    "    y1 = np.copy(optim.log_likelihood(t))\n",
    "    \n",
    "    # adjust parameters and record result\n",
    "    optim.eta[0][0,1] += eps\n",
    "    optim.Gamma = eta_2_Gamma(optim.eta)\n",
    "    optim.fwd_pass(data)\n",
    "    optim.bwd_pass(data)\n",
    "    y2 = np.copy(optim.log_likelihood(t))\n",
    "\n",
    "    # record the finite difference\n",
    "    finite_diffs[t] = (y2-y1)/eps\n",
    "\n",
    "    # change the parameters back\n",
    "    optim.eta[0][0,1] += -eps\n",
    "    optim.Gamma = eta_2_Gamma(optim.eta)\n",
    "    optim.fwd_pass(data)\n",
    "    optim.bwd_pass(data)\n",
    "    \n",
    "print(autograds)\n",
    "print(finite_diffs)\n",
    "plt.plot(autograds)\n",
    "plt.plot(finite_diffs)"
   ]
  }
 ],
 "metadata": {
  "kernelspec": {
   "display_name": "Python 3",
   "language": "python",
   "name": "python3"
  },
  "language_info": {
   "codemirror_mode": {
    "name": "ipython",
    "version": 3
   },
   "file_extension": ".py",
   "mimetype": "text/x-python",
   "name": "python",
   "nbconvert_exporter": "python",
   "pygments_lexer": "ipython3",
   "version": "3.7.6"
  }
 },
 "nbformat": 4,
 "nbformat_minor": 5
}
